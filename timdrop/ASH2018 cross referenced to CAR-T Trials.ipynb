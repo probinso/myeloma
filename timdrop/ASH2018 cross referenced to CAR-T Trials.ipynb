{
 "cells": [
  {
   "cell_type": "code",
   "execution_count": 1,
   "metadata": {
    "collapsed": true
   },
   "outputs": [],
   "source": [
    "import pandas as pd\n",
    "import numpy as np\n",
    "import urllib2\n",
    "import webbrowser\n",
    "import os\n",
    "import bs4,  re\n",
    "from bs4 import BeautifulSoup\n",
    "import requests\n",
    "import math\n",
    "import nltk\n",
    "from nltk.tokenize import word_tokenize\n",
    "import matplotlib.pyplot as plt\n",
    "%matplotlib inline\n",
    "from datetime import datetime\n",
    "import csv\n",
    "import dash\n",
    "import dash_html_components as html\n",
    "import dash_core_components as dcc\n",
    "from dash.dependencies import Input, Output\n",
    "\n",
    "import plotly.graph_objs as go"
   ]
  },
  {
   "cell_type": "code",
   "execution_count": 2,
   "metadata": {},
   "outputs": [
    {
     "data": {
      "text/plain": [
       "Index([u'Rank', u'NCT Number', u'Title', u'Acronym', u'Status',\n",
       "       u'Study Results', u'Conditions', u'Interventions', u'Outcome Measures',\n",
       "       u'Sponsor/Collaborators', u'Gender', u'Age', u'Phases', u'Enrollment',\n",
       "       u'Funded Bys', u'Study Type', u'Study Designs', u'Other IDs',\n",
       "       u'Start Date', u'Primary Completion Date', u'Completion Date',\n",
       "       u'First Posted', u'Results First Posted', u'Last Update Posted',\n",
       "       u'Locations', u'Study Documents', u'URL'],\n",
       "      dtype='object')"
      ]
     },
     "execution_count": 2,
     "metadata": {},
     "output_type": "execute_result"
    }
   ],
   "source": [
    "df = pd.read_csv('D:\\Python_Database\\Myeloma\\CART Results.csv')\n",
    "df.columns"
   ]
  },
  {
   "cell_type": "code",
   "execution_count": 3,
   "metadata": {
    "collapsed": true
   },
   "outputs": [],
   "source": [
    "abstract = pd.read_csv('D://Python_Database//Myeloma//Ash2018//abstract.csv')\n",
    "title = pd.read_csv('D://Python_Database//Myeloma//Ash2018//titles.csv')\n",
    "abstract = abstract['Paper Abstract'].tolist()\n",
    "title = title['Paper Title'].tolist()\n"
   ]
  },
  {
   "cell_type": "code",
   "execution_count": 4,
   "metadata": {},
   "outputs": [
    {
     "data": {
      "text/html": [
       "<div>\n",
       "<style scoped>\n",
       "    .dataframe tbody tr th:only-of-type {\n",
       "        vertical-align: middle;\n",
       "    }\n",
       "\n",
       "    .dataframe tbody tr th {\n",
       "        vertical-align: top;\n",
       "    }\n",
       "\n",
       "    .dataframe thead th {\n",
       "        text-align: right;\n",
       "    }\n",
       "</style>\n",
       "<table border=\"1\" class=\"dataframe\">\n",
       "  <thead>\n",
       "    <tr style=\"text-align: right;\">\n",
       "      <th></th>\n",
       "      <th>NCT Number</th>\n",
       "      <th>Title</th>\n",
       "      <th>Interventions</th>\n",
       "    </tr>\n",
       "  </thead>\n",
       "  <tbody>\n",
       "    <tr>\n",
       "      <th>0</th>\n",
       "      <td>NCT03549442</td>\n",
       "      <td>Up-front CART-BCMA With or Without huCART19 in...</td>\n",
       "      <td>Combination Product: BCMA CART + huCART19|Comb...</td>\n",
       "    </tr>\n",
       "    <tr>\n",
       "      <th>1</th>\n",
       "      <td>NCT03464916</td>\n",
       "      <td>Study to Evaluate the Safety and Efficacy of A...</td>\n",
       "      <td>Biological: CAR2 Anti-CD38 A2 CAR-T Cells</td>\n",
       "    </tr>\n",
       "    <tr>\n",
       "      <th>2</th>\n",
       "      <td>NCT02794246</td>\n",
       "      <td>CART-19 Post-ASCT for Multiple Myeloma</td>\n",
       "      <td>Biological: CART-19 cells</td>\n",
       "    </tr>\n",
       "    <tr>\n",
       "      <th>3</th>\n",
       "      <td>NCT02546167</td>\n",
       "      <td>CART-BCMA Cells for Multiple Myeloma</td>\n",
       "      <td>Biological: CART-BCMA</td>\n",
       "    </tr>\n",
       "    <tr>\n",
       "      <th>4</th>\n",
       "      <td>NCT03502577</td>\n",
       "      <td>BCMA-Specific CAR T-Cells Combined With a Gamm...</td>\n",
       "      <td>Biological: BCMA-specific CAR-expressing T Lym...</td>\n",
       "    </tr>\n",
       "    <tr>\n",
       "      <th>5</th>\n",
       "      <td>NCT03070327</td>\n",
       "      <td>BCMA Targeted CAR T Cells With or Without Lena...</td>\n",
       "      <td>Biological: EGFRt/BCMA-41BBz CAR T cell|Drug: ...</td>\n",
       "    </tr>\n",
       "    <tr>\n",
       "      <th>6</th>\n",
       "      <td>NCT02135406</td>\n",
       "      <td>CART-19 for Multiple Myeloma</td>\n",
       "      <td>Biological: CART-19 T cells</td>\n",
       "    </tr>\n",
       "    <tr>\n",
       "      <th>7</th>\n",
       "      <td>NCT03710421</td>\n",
       "      <td>CS1-CAR T Therapy Following Chemotherapy in Tr...</td>\n",
       "      <td>Procedure: CS1-CAR T Therapy|Drug: Cyclophosph...</td>\n",
       "    </tr>\n",
       "    <tr>\n",
       "      <th>8</th>\n",
       "      <td>NCT03338972</td>\n",
       "      <td>Immunotherapy With BCMA CAR-T Cells in Treatin...</td>\n",
       "      <td>Biological: Autologous Anti-BCMA-CAR-expressin...</td>\n",
       "    </tr>\n",
       "    <tr>\n",
       "      <th>9</th>\n",
       "      <td>NCT03548207</td>\n",
       "      <td>A Study of JNJ-68284528, a Chimeric Antigen Re...</td>\n",
       "      <td>Biological: JNJ-68284528</td>\n",
       "    </tr>\n",
       "    <tr>\n",
       "      <th>10</th>\n",
       "      <td>NCT03672318</td>\n",
       "      <td>Study of ATLCAR.CD138 Cells for Relapsed/Refra...</td>\n",
       "      <td>Drug: CAR138 T Cells</td>\n",
       "    </tr>\n",
       "    <tr>\n",
       "      <th>11</th>\n",
       "      <td>NCT03448978</td>\n",
       "      <td>Autologous CD8+ T-cells Expressing an Anti-BCM...</td>\n",
       "      <td>Biological: Descartes-08|Drug: Fludarabine|Dru...</td>\n",
       "    </tr>\n",
       "    <tr>\n",
       "      <th>12</th>\n",
       "      <td>NCT03602612</td>\n",
       "      <td>T Cells Expressing a Novel Fully-Human Anti-BC...</td>\n",
       "      <td>Drug: Cyclophosphamide|Drug: Fludarabine|Biolo...</td>\n",
       "    </tr>\n",
       "    <tr>\n",
       "      <th>13</th>\n",
       "      <td>NCT03288493</td>\n",
       "      <td>P-BCMA-101 Tscm CAR-T Cells in the Treatment o...</td>\n",
       "      <td>Biological: P-BCMA-101 CAR-T cells</td>\n",
       "    </tr>\n",
       "    <tr>\n",
       "      <th>14</th>\n",
       "      <td>NCT02215967</td>\n",
       "      <td>Study of T Cells Targeting B-Cell Maturation A...</td>\n",
       "      <td>Drug: Cyclophosphamide|Drug: Fludarabine|Biolo...</td>\n",
       "    </tr>\n",
       "    <tr>\n",
       "      <th>15</th>\n",
       "      <td>NCT03651128</td>\n",
       "      <td>Efficacy and Safety Study of bb2121 Versus Sta...</td>\n",
       "      <td>Drug: bb2121|Drug: Daratumumab|Drug: Pomalidom...</td>\n",
       "    </tr>\n",
       "    <tr>\n",
       "      <th>16</th>\n",
       "      <td>NCT03318861</td>\n",
       "      <td>A Study Evaluating the Safety and Efficacy of ...</td>\n",
       "      <td>Genetic: Autologous genetically modified anti-...</td>\n",
       "    </tr>\n",
       "    <tr>\n",
       "      <th>17</th>\n",
       "      <td>NCT02203825</td>\n",
       "      <td>Safety Study of Chimeric Antigen Receptor Modi...</td>\n",
       "      <td>Biological: CM-CS1 T-cell infusion</td>\n",
       "    </tr>\n",
       "    <tr>\n",
       "      <th>18</th>\n",
       "      <td>NCT03274219</td>\n",
       "      <td>Study of bb21217 in Multiple Myeloma</td>\n",
       "      <td>Biological: bb21217</td>\n",
       "    </tr>\n",
       "    <tr>\n",
       "      <th>19</th>\n",
       "      <td>NCT03361748</td>\n",
       "      <td>Efficacy and Safety Study of bb2121 in Subject...</td>\n",
       "      <td>Biological: bb2121</td>\n",
       "    </tr>\n",
       "    <tr>\n",
       "      <th>20</th>\n",
       "      <td>NCT03430011</td>\n",
       "      <td>Study Evaluating the Safety and Efficacy of JC...</td>\n",
       "      <td>Biological: JCARH125</td>\n",
       "    </tr>\n",
       "    <tr>\n",
       "      <th>21</th>\n",
       "      <td>NCT02658929</td>\n",
       "      <td>Study of bb2121 in Multiple Myeloma</td>\n",
       "      <td>Biological: bb2121</td>\n",
       "    </tr>\n",
       "    <tr>\n",
       "      <th>22</th>\n",
       "      <td>NCT02529813</td>\n",
       "      <td>CD19+ CAR T Cells for Lymphoid Malignancies</td>\n",
       "      <td>Drug: Fludarabine monophosphate|Drug: Cyclopho...</td>\n",
       "    </tr>\n",
       "  </tbody>\n",
       "</table>\n",
       "</div>"
      ],
      "text/plain": [
       "     NCT Number                                              Title  \\\n",
       "0   NCT03549442  Up-front CART-BCMA With or Without huCART19 in...   \n",
       "1   NCT03464916  Study to Evaluate the Safety and Efficacy of A...   \n",
       "2   NCT02794246             CART-19 Post-ASCT for Multiple Myeloma   \n",
       "3   NCT02546167               CART-BCMA Cells for Multiple Myeloma   \n",
       "4   NCT03502577  BCMA-Specific CAR T-Cells Combined With a Gamm...   \n",
       "5   NCT03070327  BCMA Targeted CAR T Cells With or Without Lena...   \n",
       "6   NCT02135406                       CART-19 for Multiple Myeloma   \n",
       "7   NCT03710421  CS1-CAR T Therapy Following Chemotherapy in Tr...   \n",
       "8   NCT03338972  Immunotherapy With BCMA CAR-T Cells in Treatin...   \n",
       "9   NCT03548207  A Study of JNJ-68284528, a Chimeric Antigen Re...   \n",
       "10  NCT03672318  Study of ATLCAR.CD138 Cells for Relapsed/Refra...   \n",
       "11  NCT03448978  Autologous CD8+ T-cells Expressing an Anti-BCM...   \n",
       "12  NCT03602612  T Cells Expressing a Novel Fully-Human Anti-BC...   \n",
       "13  NCT03288493  P-BCMA-101 Tscm CAR-T Cells in the Treatment o...   \n",
       "14  NCT02215967  Study of T Cells Targeting B-Cell Maturation A...   \n",
       "15  NCT03651128  Efficacy and Safety Study of bb2121 Versus Sta...   \n",
       "16  NCT03318861  A Study Evaluating the Safety and Efficacy of ...   \n",
       "17  NCT02203825  Safety Study of Chimeric Antigen Receptor Modi...   \n",
       "18  NCT03274219               Study of bb21217 in Multiple Myeloma   \n",
       "19  NCT03361748  Efficacy and Safety Study of bb2121 in Subject...   \n",
       "20  NCT03430011  Study Evaluating the Safety and Efficacy of JC...   \n",
       "21  NCT02658929                Study of bb2121 in Multiple Myeloma   \n",
       "22  NCT02529813        CD19+ CAR T Cells for Lymphoid Malignancies   \n",
       "\n",
       "                                        Interventions  \n",
       "0   Combination Product: BCMA CART + huCART19|Comb...  \n",
       "1           Biological: CAR2 Anti-CD38 A2 CAR-T Cells  \n",
       "2                           Biological: CART-19 cells  \n",
       "3                               Biological: CART-BCMA  \n",
       "4   Biological: BCMA-specific CAR-expressing T Lym...  \n",
       "5   Biological: EGFRt/BCMA-41BBz CAR T cell|Drug: ...  \n",
       "6                         Biological: CART-19 T cells  \n",
       "7   Procedure: CS1-CAR T Therapy|Drug: Cyclophosph...  \n",
       "8   Biological: Autologous Anti-BCMA-CAR-expressin...  \n",
       "9                            Biological: JNJ-68284528  \n",
       "10                               Drug: CAR138 T Cells  \n",
       "11  Biological: Descartes-08|Drug: Fludarabine|Dru...  \n",
       "12  Drug: Cyclophosphamide|Drug: Fludarabine|Biolo...  \n",
       "13                 Biological: P-BCMA-101 CAR-T cells  \n",
       "14  Drug: Cyclophosphamide|Drug: Fludarabine|Biolo...  \n",
       "15  Drug: bb2121|Drug: Daratumumab|Drug: Pomalidom...  \n",
       "16  Genetic: Autologous genetically modified anti-...  \n",
       "17                 Biological: CM-CS1 T-cell infusion  \n",
       "18                                Biological: bb21217  \n",
       "19                                 Biological: bb2121  \n",
       "20                               Biological: JCARH125  \n",
       "21                                 Biological: bb2121  \n",
       "22  Drug: Fludarabine monophosphate|Drug: Cyclopho...  "
      ]
     },
     "execution_count": 4,
     "metadata": {},
     "output_type": "execute_result"
    }
   ],
   "source": [
    "df = df[['NCT Number', 'Title', 'Interventions']]\n",
    "df"
   ]
  },
  {
   "cell_type": "code",
   "execution_count": 5,
   "metadata": {},
   "outputs": [
    {
     "data": {
      "text/plain": [
       "['NCT03549442',\n",
       " 'NCT03464916',\n",
       " 'NCT02794246',\n",
       " 'NCT02546167',\n",
       " 'NCT03502577',\n",
       " 'NCT03070327',\n",
       " 'NCT02135406',\n",
       " 'NCT03710421',\n",
       " 'NCT03338972',\n",
       " 'NCT03548207',\n",
       " 'NCT03672318',\n",
       " 'NCT03448978',\n",
       " 'NCT03602612',\n",
       " 'NCT03288493',\n",
       " 'NCT02215967',\n",
       " 'NCT03651128',\n",
       " 'NCT03318861',\n",
       " 'NCT02203825',\n",
       " 'NCT03274219',\n",
       " 'NCT03361748',\n",
       " 'NCT03430011',\n",
       " 'NCT02658929',\n",
       " 'NCT02529813']"
      ]
     },
     "execution_count": 5,
     "metadata": {},
     "output_type": "execute_result"
    }
   ],
   "source": [
    "NCT_No = df['NCT Number'].tolist()\n",
    "NCT_No"
   ]
  },
  {
   "cell_type": "code",
   "execution_count": 6,
   "metadata": {
    "collapsed": true
   },
   "outputs": [],
   "source": [
    "numbers = []\n",
    "trial = []\n",
    "pos = []\n",
    "for i in NCT_No:\n",
    "    for j in range(len(abstract)):\n",
    "        if i in abstract[j]:\n",
    "            numbers.append(j)\n",
    "            trial.append(i)\n",
    "            pos.append(NCT_No.index(i))\n",
    "        else:\n",
    "            continue"
   ]
  },
  {
   "cell_type": "code",
   "execution_count": 7,
   "metadata": {},
   "outputs": [
    {
     "data": {
      "text/plain": [
       "([1069, 2219, 2716, 668, 3359, 1936],\n",
       " ['NCT02546167',\n",
       "  'NCT03548207',\n",
       "  'NCT03288493',\n",
       "  'NCT03274219',\n",
       "  'NCT03430011',\n",
       "  'NCT02658929'],\n",
       " [3, 9, 13, 18, 20, 21])"
      ]
     },
     "execution_count": 7,
     "metadata": {},
     "output_type": "execute_result"
    }
   ],
   "source": [
    "numbers, trial, pos"
   ]
  },
  {
   "cell_type": "code",
   "execution_count": 90,
   "metadata": {},
   "outputs": [
    {
     "data": {
      "text/plain": [
       "'[<div class=\"abstract\">\\r\\n<div><strong>Introduction:</strong> The optimal clinical setting and cell product characteristics for chimeric antigen receptor (CAR) T cell therapy in multiple myeloma (MM) are uncertain. In CLL patients treated with anti-CD19 CAR T cells (CART19), prevalence of an early memory (early-mem) T cell phenotype (CD27+ CD45RO- CD8+) at time of leukapheresis was predictive of clinical response independently of other patient- or disease-specific factors and was associated with enhanced capacity for in vitro T cell expansion and CD19-responsive activation (Fraietta et al. Nat Med 2018). T cell fitness is therefore a major determinant of response to CAR T cell therapy. In an accompanying abstract (Cohen et al.), we report that higher percentage of early-mem T cells and CD4/CD8 ratio within the leukapheresis product are associated with favorable clinical response to anti-BCMA CAR T cells (CART-BCMA) in relapsed/refractory MM. Here, we compare leukapheresis samples from MM patients obtained at completion of induction therapy (post-ind) with those obtained in relapsed/refractory (rel/ref) patients for frequency of early-mem T cells, CD4/CD8 ratio, and in vitro T cell expansion.\\r\\n<p><strong>Methods: </strong>Cryopreserved leukapheresis samples were analyzed for the percentage of early-mem T cells and CD4/CD8 ratio by flow cytometry and in vitro expansion kinetics during anti-CD3/anti-CD28 bead stimulation. Post-ind samples were obtained between 2007 and 2014 from previously reported MM trials in which ex-vivo-expanded autologous T cells were infused post-ASCT to facilitate immune reconstitution (NCT01245673, NCT01426828, NCT00046852); rel/ref samples were from MM patients treated in a phase-one study of CART-BCMA (NCT02546167).\\r\\n</p><p><strong>Results:</strong> The post-ind cohort includes 38 patients with median age 55y (range 41-68) and prior exposure to lenalidomide (22), bortezomib (21), dexamethasone (38), cyclophosphamide (8), vincristine (2), thalidomide (8), and doxorubicin (4); median time from first systemic therapy to leukapheresis was 152 days (range 53-1886) with a median of 1 prior line of therapy (range 1-4). The rel/ref cohort included 25 patients with median age 58y (range 44-75), median 7 prior lines of therapy (range 3-13), and previously exposed to lenalidomide (25), bortezomib (25), pomalidomide (23), carfilzomib/oprozomib (24), daratumumab (19), cyclophosphamide (25), autologous SCT (23), allogeneic SCT (1), and anti-PD1 (7). Median marrow plasma cell content at leukapheresis was lower in the post-ind cohort (12.5%, range 0-80, n=37) compared to the rel/ref cohort (65%, range 0-95%). Percentage of early-mem T cells was higher in the post-ind vs rel/ref cohort (median 43.9% vs 29.0%, p=0.001, left figure). Likewise, CD4/CD8 ratio was higher in the post-ind vs rel/ref cohort (median 2.6 vs 0.87, p&lt;0.0001, mid figure). Magnitude of in vitro T cell expansion during manufacturing (measured as population doublings by day 9, or PDL9), which correlated with response to CART19 in CLL, was higher in post-ind vs rel/ref cohort (median PDL9 5.3 vs 4.5, p=0.0008, right figure). Pooling data from both cohorts, PDL9 correlated with both early-mem T cell percentage (Spearman\\xe2\\x80\\x99s rho 0.38, multiplicity adjusted p=0.01) and CD4/CD8 ratio (Spearman\\xe2\\x80\\x99s rho 0.42, multiplicity adjusted p=0.005). Within the post-ind cohort, there was no significant association between early-mem T cell percentage and time since MM diagnosis, duration of therapy, exposure to specific therapies (including cyclophosphamide, bortezomib, or lenalidomide), or bone marrow plasma cell content at time of apheresis. However, in the post-ind cohort, there was a trend of toward lower percentage early-mem phenotype (29% vs 49%, p=0.07) and lower CD4/CD8 ratio (median 1.4 vs 2.7, p=0.04) among patients who required &gt;2 lines of therapy prior to apheresis (n=3) compared to the rest of the cohort (n=35).\\r\\n</p><p><strong>Conclusion:</strong> In MM patients, frequency of the early-mem T cell phenotype, a functionally validated biomarker of fitness for CAR T cell manufacturing, was significantly higher in leukapheresis products obtained after induction therapy compared to the relapsed/refractory setting, as was CD4/CD8 ratio and magnitude of in vitro T cell expansion. This result suggests that CAR T cells for MM would yield better clinical responses at early points in the disease course, at periods of relatively low disease burden and before exposure to multiple lines of therapy. <br /><a href=\"/data/abstract/ash/2018/9/1/Paper_115319_abstract_238897_0.jpg\" target=\"_blank\"><img src=\"/data/abstract/ash/2018/9/1/Paper_115319_abstract_238897_0.jpg\" class=\"documentimage\" /></a></p></div>\\r\\n</div>]'"
      ]
     },
     "execution_count": 90,
     "metadata": {},
     "output_type": "execute_result"
    }
   ],
   "source": [
    "abstract[1069]"
   ]
  },
  {
   "cell_type": "code",
   "execution_count": 8,
   "metadata": {},
   "outputs": [
    {
     "data": {
      "text/plain": [
       "'<title>Paper: Clinical Predictors of T Cell Fitness for CAR T Cell Manufacturing and Efficacy in Multiple Myeloma</title>'"
      ]
     },
     "execution_count": 8,
     "metadata": {},
     "output_type": "execute_result"
    }
   ],
   "source": [
    "title[1069]"
   ]
  },
  {
   "cell_type": "code",
   "execution_count": 9,
   "metadata": {
    "collapsed": true
   },
   "outputs": [],
   "source": [
    "papers = []\n",
    "\n",
    "for i in numbers:\n",
    "    papers.append(title[i])\n"
   ]
  },
  {
   "cell_type": "code",
   "execution_count": 11,
   "metadata": {},
   "outputs": [
    {
     "data": {
      "text/plain": [
       "['Clinical Predictors of T Cell Fitness for CAR T Cell Manufacturing and Efficacy in Multiple Myeloma',\n",
       " 'Updated Analysis of a Phase 1, Open-Label Study of LCAR-B38M, a Chimeric Antigen Receptor T Cell Therapy Directed Against B-Cell Maturation Antigen, in Patients with Relapsed/Refractory Multiple Myeloma',\n",
       " 'Efficacy and Safety of P-Bcma-101 CAR-T Cells in Patients with Relapsed/Refractory (r/r) Multiple Myeloma (MM)',\n",
       " 'Initial Results from a Phase 1 Clinical Study of bb21217, a Next-Generation Anti Bcma CAR T Therapy',\n",
       " 'JCARH125, Anti-BCMA CAR T-cell Therapy for Relapsed/Refractory Multiple Myeloma: Initial Proof of Concept Results from a Phase 1/2 Multicenter Study (EVOLVE)',\n",
       " 'ET190L1-Artemis<sup>TM</sup> T Cell Therapy Results in Durable Disease Remissions with No Cytokine Release Syndrome or Neurotoxicity in Patients with Relapsed and Refractory B-Cell Lymphoma']"
      ]
     },
     "execution_count": 11,
     "metadata": {},
     "output_type": "execute_result"
    }
   ],
   "source": [
    "paper = []\n",
    "for i in range(len(papers)):\n",
    "    paper.append(papers[i][14:-8])\n",
    "    \n",
    "paper"
   ]
  },
  {
   "cell_type": "code",
   "execution_count": 12,
   "metadata": {},
   "outputs": [
    {
     "data": {
      "text/plain": [
       "['CART-BCMA Cells for Multiple Myeloma',\n",
       " 'A Study of JNJ-68284528, a Chimeric Antigen Receptor T Cell (CAR-T) Therapy Directed Against B-Cell Maturation Antigen (BCMA) in Participants With Relapsed or Refractory Multiple Myeloma',\n",
       " 'P-BCMA-101 Tscm CAR-T Cells in the Treatment of Patients With Multiple Myeloma (MM)',\n",
       " 'Study of bb21217 in Multiple Myeloma',\n",
       " 'Study Evaluating the Safety and Efficacy of JCARH125 in Subjects With Relapsed and/or Refractory Multiple Myeloma',\n",
       " 'Study of bb2121 in Multiple Myeloma']"
      ]
     },
     "execution_count": 12,
     "metadata": {},
     "output_type": "execute_result"
    }
   ],
   "source": [
    "trial_title = []\n",
    "for i in pos:\n",
    "    trial_title.append(df.iloc[i]['Title'])\n",
    "    \n",
    "trial_title"
   ]
  },
  {
   "cell_type": "code",
   "execution_count": 13,
   "metadata": {
    "collapsed": true
   },
   "outputs": [],
   "source": [
    "product = pd.DataFrame(list(map(list, zip(trial,trial_title,paper))))\n",
    "product.columns = ['Trial Number', 'Trial Title', 'ASH2018 Paper Title']\n",
    "pd.options.display.max_colwidth = 0"
   ]
  },
  {
   "cell_type": "code",
   "execution_count": 14,
   "metadata": {},
   "outputs": [
    {
     "data": {
      "text/html": [
       "<div>\n",
       "<style scoped>\n",
       "    .dataframe tbody tr th:only-of-type {\n",
       "        vertical-align: middle;\n",
       "    }\n",
       "\n",
       "    .dataframe tbody tr th {\n",
       "        vertical-align: top;\n",
       "    }\n",
       "\n",
       "    .dataframe thead th {\n",
       "        text-align: right;\n",
       "    }\n",
       "</style>\n",
       "<table border=\"1\" class=\"dataframe\">\n",
       "  <thead>\n",
       "    <tr style=\"text-align: right;\">\n",
       "      <th></th>\n",
       "      <th>Trial Number</th>\n",
       "      <th>Trial Title</th>\n",
       "      <th>ASH2018 Paper Title</th>\n",
       "    </tr>\n",
       "  </thead>\n",
       "  <tbody>\n",
       "    <tr>\n",
       "      <th>0</th>\n",
       "      <td>NCT02546167</td>\n",
       "      <td>CART-BCMA Cells for Multiple Myeloma</td>\n",
       "      <td>Clinical Predictors of T Cell Fitness for CAR T Cell Manufacturing and Efficacy in Multiple Myeloma</td>\n",
       "    </tr>\n",
       "    <tr>\n",
       "      <th>1</th>\n",
       "      <td>NCT03548207</td>\n",
       "      <td>A Study of JNJ-68284528, a Chimeric Antigen Receptor T Cell (CAR-T) Therapy Directed Against B-Cell Maturation Antigen (BCMA) in Participants With Relapsed or Refractory Multiple Myeloma</td>\n",
       "      <td>Updated Analysis of a Phase 1, Open-Label Study of LCAR-B38M, a Chimeric Antigen Receptor T Cell Therapy Directed Against B-Cell Maturation Antigen, in Patients with Relapsed/Refractory Multiple Myeloma</td>\n",
       "    </tr>\n",
       "    <tr>\n",
       "      <th>2</th>\n",
       "      <td>NCT03288493</td>\n",
       "      <td>P-BCMA-101 Tscm CAR-T Cells in the Treatment of Patients With Multiple Myeloma (MM)</td>\n",
       "      <td>Efficacy and Safety of P-Bcma-101 CAR-T Cells in Patients with Relapsed/Refractory (r/r) Multiple Myeloma (MM)</td>\n",
       "    </tr>\n",
       "    <tr>\n",
       "      <th>3</th>\n",
       "      <td>NCT03274219</td>\n",
       "      <td>Study of bb21217 in Multiple Myeloma</td>\n",
       "      <td>Initial Results from a Phase 1 Clinical Study of bb21217, a Next-Generation Anti Bcma CAR T Therapy</td>\n",
       "    </tr>\n",
       "    <tr>\n",
       "      <th>4</th>\n",
       "      <td>NCT03430011</td>\n",
       "      <td>Study Evaluating the Safety and Efficacy of JCARH125 in Subjects With Relapsed and/or Refractory Multiple Myeloma</td>\n",
       "      <td>JCARH125, Anti-BCMA CAR T-cell Therapy for Relapsed/Refractory Multiple Myeloma: Initial Proof of Concept Results from a Phase 1/2 Multicenter Study (EVOLVE)</td>\n",
       "    </tr>\n",
       "    <tr>\n",
       "      <th>5</th>\n",
       "      <td>NCT02658929</td>\n",
       "      <td>Study of bb2121 in Multiple Myeloma</td>\n",
       "      <td>ET190L1-Artemis&lt;sup&gt;TM&lt;/sup&gt; T Cell Therapy Results in Durable Disease Remissions with No Cytokine Release Syndrome or Neurotoxicity in Patients with Relapsed and Refractory B-Cell Lymphoma</td>\n",
       "    </tr>\n",
       "  </tbody>\n",
       "</table>\n",
       "</div>"
      ],
      "text/plain": [
       "  Trial Number  \\\n",
       "0  NCT02546167   \n",
       "1  NCT03548207   \n",
       "2  NCT03288493   \n",
       "3  NCT03274219   \n",
       "4  NCT03430011   \n",
       "5  NCT02658929   \n",
       "\n",
       "                                                                                                                                                                                  Trial Title  \\\n",
       "0  CART-BCMA Cells for Multiple Myeloma                                                                                                                                                         \n",
       "1  A Study of JNJ-68284528, a Chimeric Antigen Receptor T Cell (CAR-T) Therapy Directed Against B-Cell Maturation Antigen (BCMA) in Participants With Relapsed or Refractory Multiple Myeloma   \n",
       "2  P-BCMA-101 Tscm CAR-T Cells in the Treatment of Patients With Multiple Myeloma (MM)                                                                                                          \n",
       "3  Study of bb21217 in Multiple Myeloma                                                                                                                                                         \n",
       "4  Study Evaluating the Safety and Efficacy of JCARH125 in Subjects With Relapsed and/or Refractory Multiple Myeloma                                                                            \n",
       "5  Study of bb2121 in Multiple Myeloma                                                                                                                                                          \n",
       "\n",
       "                                                                                                                                                                                          ASH2018 Paper Title  \n",
       "0  Clinical Predictors of T Cell Fitness for CAR T Cell Manufacturing and Efficacy in Multiple Myeloma                                                                                                         \n",
       "1  Updated Analysis of a Phase 1, Open-Label Study of LCAR-B38M, a Chimeric Antigen Receptor T Cell Therapy Directed Against B-Cell Maturation Antigen, in Patients with Relapsed/Refractory Multiple Myeloma  \n",
       "2  Efficacy and Safety of P-Bcma-101 CAR-T Cells in Patients with Relapsed/Refractory (r/r) Multiple Myeloma (MM)                                                                                              \n",
       "3  Initial Results from a Phase 1 Clinical Study of bb21217, a Next-Generation Anti Bcma CAR T Therapy                                                                                                         \n",
       "4  JCARH125, Anti-BCMA CAR T-cell Therapy for Relapsed/Refractory Multiple Myeloma: Initial Proof of Concept Results from a Phase 1/2 Multicenter Study (EVOLVE)                                               \n",
       "5  ET190L1-Artemis<sup>TM</sup> T Cell Therapy Results in Durable Disease Remissions with No Cytokine Release Syndrome or Neurotoxicity in Patients with Relapsed and Refractory B-Cell Lymphoma               "
      ]
     },
     "execution_count": 14,
     "metadata": {},
     "output_type": "execute_result"
    }
   ],
   "source": [
    "product"
   ]
  },
  {
   "cell_type": "code",
   "execution_count": 15,
   "metadata": {
    "collapsed": true
   },
   "outputs": [],
   "source": [
    "def ASH2018_papers(word1, word2, word3):\n",
    "    num = []\n",
    "    for i in range(len(abstract)):\n",
    "        if word1 in abstract[i] and word2 in abstract[i] and word3 in abstract[i]:\n",
    "            num.append(i)\n",
    "        else:\n",
    "            continue\n",
    "            \n",
    "    filtered_lst = set(num).difference(numbers)\n",
    "    \n",
    "    papers = []\n",
    "    for i in filtered_lst:\n",
    "        papers.append(title[i])\n",
    "    \n",
    "    ASH_paper_title = []\n",
    "    for i in range(len(papers)):\n",
    "        ASH_paper_title.append(papers[i][14:-8])\n",
    "        \n",
    "    ASH_paper_title = pd.DataFrame(ASH_paper_title)\n",
    "    ASH_paper_title.columns = ['ASH 2018 Titles']\n",
    "        \n",
    "    return ASH_paper_title, num\n",
    "    "
   ]
  },
  {
   "cell_type": "code",
   "execution_count": 16,
   "metadata": {},
   "outputs": [
    {
     "data": {
      "text/plain": [
       "[(308, 'BCMA'),\n",
       " (668, 'BCMA'),\n",
       " (1065, 'BCMA'),\n",
       " (1069, 'BCMA'),\n",
       " (1359, 'BCMA'),\n",
       " (1394, 'BCMA'),\n",
       " (1408, 'BCMA'),\n",
       " (1490, 'BCMA'),\n",
       " (1693, 'BCMA'),\n",
       " (1756, 'BCMA'),\n",
       " (2045, 'BCMA'),\n",
       " (2219, 'BCMA'),\n",
       " (2716, 'BCMA'),\n",
       " (2812, 'BCMA'),\n",
       " (2883, 'BCMA'),\n",
       " (3166, 'BCMA'),\n",
       " (3359, 'BCMA'),\n",
       " (3389, 'BCMA'),\n",
       " (3712, 'BCMA'),\n",
       " (4229, 'BCMA'),\n",
       " (4281, 'BCMA'),\n",
       " (4363, 'BCMA'),\n",
       " (4382, 'BCMA')]"
      ]
     },
     "execution_count": 16,
     "metadata": {},
     "output_type": "execute_result"
    }
   ],
   "source": [
    "BCMA = ASH2018_papers('myeloma', 'BCMA', 'CAR')\n",
    "BCMA_lst = zip(BCMA[1], ['BCMA']*len(BCMA[1]))\n",
    "BCMA_lst"
   ]
  },
  {
   "cell_type": "code",
   "execution_count": 17,
   "metadata": {},
   "outputs": [
    {
     "data": {
      "text/plain": [
       "'<title>Paper: A Phase 1 Study of Two Investigational Agents, ACTR087, an Autologous T Cell Product Expressing an Antibody-Coupled T Cell Receptor, in Combination with SEA-BCMA, a Novel Non-Fucosylated Monoclonal Antibody, in Subjects with Relapsed or Refractory Multiple Myeloma</title>'"
      ]
     },
     "execution_count": 17,
     "metadata": {},
     "output_type": "execute_result"
    }
   ],
   "source": [
    "title[308]"
   ]
  },
  {
   "cell_type": "code",
   "execution_count": 18,
   "metadata": {},
   "outputs": [
    {
     "data": {
      "text/html": [
       "<div>\n",
       "<style scoped>\n",
       "    .dataframe tbody tr th:only-of-type {\n",
       "        vertical-align: middle;\n",
       "    }\n",
       "\n",
       "    .dataframe tbody tr th {\n",
       "        vertical-align: top;\n",
       "    }\n",
       "\n",
       "    .dataframe thead th {\n",
       "        text-align: right;\n",
       "    }\n",
       "</style>\n",
       "<table border=\"1\" class=\"dataframe\">\n",
       "  <thead>\n",
       "    <tr style=\"text-align: right;\">\n",
       "      <th></th>\n",
       "      <th>ASH 2018 Titles</th>\n",
       "    </tr>\n",
       "  </thead>\n",
       "  <tbody>\n",
       "    <tr>\n",
       "      <th>0</th>\n",
       "      <td>REGN5458, a Bispecific BCMAxCD3 T Cell Engaging Antibody, Demonstrates Robust In Vitro and In Vivo Anti-Tumor Efficacy in Multiple Myeloma Models, Comparable to That of BCMA CAR T Cells</td>\n",
       "    </tr>\n",
       "    <tr>\n",
       "      <th>1</th>\n",
       "      <td>CAR T Cell Therapy Targeting G Protein-Coupled Receptor Class C Group 5 Member D (GPRC5D), a Novel Target for the Immunotherapy of Multiple Myeloma</td>\n",
       "    </tr>\n",
       "    <tr>\n",
       "      <th>2</th>\n",
       "      <td>Low Dose of Human scFv-Derived BCMA-Targeted CAR-T Cells Achieved Fast Response and High Complete Remission in Patients with Relapsed/Refractory Multiple Myeloma</td>\n",
       "    </tr>\n",
       "    <tr>\n",
       "      <th>3</th>\n",
       "      <td>Chemically Controlled, Immunosuppression-Resistant, Anti-Bcma CAR-T Cells for Treatment of Antibody-Mediated Autoimmunity</td>\n",
       "    </tr>\n",
       "    <tr>\n",
       "      <th>4</th>\n",
       "      <td>Engineering an Optimized Trimeric APRIL-Based CAR to Broaden Targetability of Multiple Myeloma</td>\n",
       "    </tr>\n",
       "    <tr>\n",
       "      <th>5</th>\n",
       "      <td>&lt;em&gt; Identifying Factors in Multiple Myeloma Controlling Response to B-Cell Maturation Antigen (BCMA)-Targeted Immunotherapy Using CRISPR-Based Functional Genomics&lt;/em&gt;</td>\n",
       "    </tr>\n",
       "    <tr>\n",
       "      <th>6</th>\n",
       "      <td>Preclinical Development of CTX120, an Allogeneic CAR-T Cell Targeting Bcma</td>\n",
       "    </tr>\n",
       "    <tr>\n",
       "      <th>7</th>\n",
       "      <td>ALLO-715, an Allogeneic Bcma CAR T Therapy Possessing an Off-Switch for the Treatment of Multiple Myeloma</td>\n",
       "    </tr>\n",
       "    <tr>\n",
       "      <th>8</th>\n",
       "      <td>Clinical Responses and Pharmacokinetics of MCARH171, a Human-Derived Bcma Targeted CAR T Cell Therapy in Relapsed/Refractory Multiple Myeloma: Final Results of a Phase I Clinical Trial</td>\n",
       "    </tr>\n",
       "    <tr>\n",
       "      <th>9</th>\n",
       "      <td>Durable Remission Achieved from Bcma-Directed CAR-T Therapy Against Relapsed or Refractory Multiple Myeloma</td>\n",
       "    </tr>\n",
       "    <tr>\n",
       "      <th>10</th>\n",
       "      <td>T Cells Engineered with T Cell Antigen Coupler (TAC) Receptors for Haematological Malignancies</td>\n",
       "    </tr>\n",
       "    <tr>\n",
       "      <th>11</th>\n",
       "      <td>Bcma Heteroclitic Peptide Encapsulated Nanoparticle Enhances Antigen Stimulatory Capacity and Tumor-Specific CD8&lt;sup&gt;+ &lt;/sup&gt;cytotoxic T Lymphocytes Against Multiple Myeloma</td>\n",
       "    </tr>\n",
       "    <tr>\n",
       "      <th>12</th>\n",
       "      <td>Tandom Autologous Transplantation and Combined Infusion of CD19 and Bcma-Specific Chimeric Antigen Receptor T Cells for High Risk MM: Initial Safety and Efficacy Report from a Clinical Pilot Study</td>\n",
       "    </tr>\n",
       "    <tr>\n",
       "      <th>13</th>\n",
       "      <td>A Phase 1 Study of Two Investigational Agents, ACTR087, an Autologous T Cell Product Expressing an Antibody-Coupled T Cell Receptor, in Combination with SEA-BCMA, a Novel Non-Fucosylated Monoclonal Antibody, in Subjects with Relapsed or Refractory Multiple Myeloma</td>\n",
       "    </tr>\n",
       "    <tr>\n",
       "      <th>14</th>\n",
       "      <td>Fully Human Bcma Targeted Chimeric Antigen Receptor T Cells Administered in a Defined Composition Demonstrate Potency at Low Doses in Advanced Stage High Risk Multiple Myeloma</td>\n",
       "    </tr>\n",
       "    <tr>\n",
       "      <th>15</th>\n",
       "      <td>Preclinical and Nonclinical Characterization of HPN217: A Tri-Specific T Cell Activating Construct (TriTAC) Targeting B Cell Maturation Antigen (BCMA) for the Treatment of Multiple Myeloma</td>\n",
       "    </tr>\n",
       "    <tr>\n",
       "      <th>16</th>\n",
       "      <td>Analysis of the Multiple Myeloma HLA Peptidome Identifies a Naturally Presented Bcma-Derived Peptide As an Immunogenic T-Cell Epitope for Immunotherapeutic Approaches</td>\n",
       "    </tr>\n",
       "    <tr>\n",
       "      <th>17</th>\n",
       "      <td>Development and Evaluation of CART Targeting Bcma with Humanized Alpaca-Derived Single-Domain Antibody As Antigen Recognition Domain</td>\n",
       "    </tr>\n",
       "  </tbody>\n",
       "</table>\n",
       "</div>"
      ],
      "text/plain": [
       "                                                                                                                                                                                                                                                             ASH 2018 Titles\n",
       "0   REGN5458, a Bispecific BCMAxCD3 T Cell Engaging Antibody, Demonstrates Robust In Vitro and In Vivo Anti-Tumor Efficacy in Multiple Myeloma Models, Comparable to That of BCMA CAR T Cells                                                                               \n",
       "1   CAR T Cell Therapy Targeting G Protein-Coupled Receptor Class C Group 5 Member D (GPRC5D), a Novel Target for the Immunotherapy of Multiple Myeloma                                                                                                                     \n",
       "2   Low Dose of Human scFv-Derived BCMA-Targeted CAR-T Cells Achieved Fast Response and High Complete Remission in Patients with Relapsed/Refractory Multiple Myeloma                                                                                                       \n",
       "3   Chemically Controlled, Immunosuppression-Resistant, Anti-Bcma CAR-T Cells for Treatment of Antibody-Mediated Autoimmunity                                                                                                                                               \n",
       "4   Engineering an Optimized Trimeric APRIL-Based CAR to Broaden Targetability of Multiple Myeloma                                                                                                                                                                          \n",
       "5   <em> Identifying Factors in Multiple Myeloma Controlling Response to B-Cell Maturation Antigen (BCMA)-Targeted Immunotherapy Using CRISPR-Based Functional Genomics</em>                                                                                                \n",
       "6   Preclinical Development of CTX120, an Allogeneic CAR-T Cell Targeting Bcma                                                                                                                                                                                              \n",
       "7   ALLO-715, an Allogeneic Bcma CAR T Therapy Possessing an Off-Switch for the Treatment of Multiple Myeloma                                                                                                                                                               \n",
       "8   Clinical Responses and Pharmacokinetics of MCARH171, a Human-Derived Bcma Targeted CAR T Cell Therapy in Relapsed/Refractory Multiple Myeloma: Final Results of a Phase I Clinical Trial                                                                                \n",
       "9   Durable Remission Achieved from Bcma-Directed CAR-T Therapy Against Relapsed or Refractory Multiple Myeloma                                                                                                                                                             \n",
       "10  T Cells Engineered with T Cell Antigen Coupler (TAC) Receptors for Haematological Malignancies                                                                                                                                                                          \n",
       "11  Bcma Heteroclitic Peptide Encapsulated Nanoparticle Enhances Antigen Stimulatory Capacity and Tumor-Specific CD8<sup>+ </sup>cytotoxic T Lymphocytes Against Multiple Myeloma                                                                                           \n",
       "12  Tandom Autologous Transplantation and Combined Infusion of CD19 and Bcma-Specific Chimeric Antigen Receptor T Cells for High Risk MM: Initial Safety and Efficacy Report from a Clinical Pilot Study                                                                    \n",
       "13  A Phase 1 Study of Two Investigational Agents, ACTR087, an Autologous T Cell Product Expressing an Antibody-Coupled T Cell Receptor, in Combination with SEA-BCMA, a Novel Non-Fucosylated Monoclonal Antibody, in Subjects with Relapsed or Refractory Multiple Myeloma\n",
       "14  Fully Human Bcma Targeted Chimeric Antigen Receptor T Cells Administered in a Defined Composition Demonstrate Potency at Low Doses in Advanced Stage High Risk Multiple Myeloma                                                                                         \n",
       "15  Preclinical and Nonclinical Characterization of HPN217: A Tri-Specific T Cell Activating Construct (TriTAC) Targeting B Cell Maturation Antigen (BCMA) for the Treatment of Multiple Myeloma                                                                            \n",
       "16  Analysis of the Multiple Myeloma HLA Peptidome Identifies a Naturally Presented Bcma-Derived Peptide As an Immunogenic T-Cell Epitope for Immunotherapeutic Approaches                                                                                                  \n",
       "17  Development and Evaluation of CART Targeting Bcma with Humanized Alpaca-Derived Single-Domain Antibody As Antigen Recognition Domain                                                                                                                                    "
      ]
     },
     "execution_count": 18,
     "metadata": {},
     "output_type": "execute_result"
    }
   ],
   "source": [
    "BCMA[0]"
   ]
  },
  {
   "cell_type": "code",
   "execution_count": 102,
   "metadata": {},
   "outputs": [
    {
     "data": {
      "text/plain": [
       "[(1065, 'CD19'),\n",
       " (1069, 'CD19'),\n",
       " (1336, 'CD19'),\n",
       " (1394, 'CD19'),\n",
       " (2985, 'CD19'),\n",
       " (3166, 'CD19'),\n",
       " (3389, 'CD19')]"
      ]
     },
     "execution_count": 102,
     "metadata": {},
     "output_type": "execute_result"
    }
   ],
   "source": [
    "CD19 = ASH2018_papers('myeloma', 'CD19', 'CAR')\n",
    "\n",
    "CD19 = ASH2018_papers('myeloma', 'CD19', 'CAR')\n",
    "CD19_lst = zip(CD19[1], ['CD19']*len(CD19[1]))\n",
    "CD19_lst\n",
    "# CD19[0]"
   ]
  },
  {
   "cell_type": "code",
   "execution_count": 103,
   "metadata": {},
   "outputs": [
    {
     "data": {
      "text/plain": [
       "[(1509, 'CD138'), (2985, 'CD138'), (3166, 'CD138'), (3712, 'CD138')]"
      ]
     },
     "execution_count": 103,
     "metadata": {},
     "output_type": "execute_result"
    }
   ],
   "source": [
    "CD138 = ASH2018_papers('myeloma', 'CD138', 'CAR')\n",
    "\n",
    "CD138 = ASH2018_papers('myeloma', 'CD138', 'CAR')\n",
    "CD138_lst = zip(CD138[1], ['CD138']*len(CD138[1]))\n",
    "CD138_lst\n",
    "\n",
    "# CD138[0]"
   ]
  },
  {
   "cell_type": "code",
   "execution_count": 104,
   "metadata": {},
   "outputs": [
    {
     "data": {
      "text/plain": [
       "[(1620, 'CD38'),\n",
       " (1693, 'CD38'),\n",
       " (1964, 'CD38'),\n",
       " (2459, 'CD38'),\n",
       " (2883, 'CD38'),\n",
       " (2985, 'CD38'),\n",
       " (3359, 'CD38'),\n",
       " (3712, 'CD38')]"
      ]
     },
     "execution_count": 104,
     "metadata": {},
     "output_type": "execute_result"
    }
   ],
   "source": [
    "CD38 = ASH2018_papers('myeloma', 'CD38', 'CAR')\n",
    "\n",
    "CD38 = ASH2018_papers('myeloma', 'CD38', 'CAR')\n",
    "CD38_lst = zip(CD38[1], ['CD38']*len(CD38[1]))\n",
    "CD38_lst\n",
    "\n",
    "# CD38[0]"
   ]
  },
  {
   "cell_type": "code",
   "execution_count": 105,
   "metadata": {},
   "outputs": [
    {
     "data": {
      "text/plain": [
       "[(610, 'NK38'), (1848, 'NK38')]"
      ]
     },
     "execution_count": 105,
     "metadata": {},
     "output_type": "execute_result"
    }
   ],
   "source": [
    "NK = ASH2018_papers('myeloma', 'NK', 'CAR')\n",
    "\n",
    "NK = ASH2018_papers('myeloma', 'NK', 'CAR')\n",
    "NK_lst = zip(NK[1], ['NK38']*len(NK[1]))\n",
    "NK_lst\n",
    "\n",
    "# NK[0]"
   ]
  },
  {
   "cell_type": "code",
   "execution_count": 106,
   "metadata": {
    "collapsed": true
   },
   "outputs": [],
   "source": [
    "CART_abstract_title_no = BCMA_lst + CD19_lst + CD138_lst + NK_lst + CD38_lst"
   ]
  },
  {
   "cell_type": "code",
   "execution_count": 107,
   "metadata": {
    "hideOutput": true
   },
   "outputs": [
    {
     "data": {
      "text/plain": [
       "[308,\n",
       " 668,\n",
       " 1065,\n",
       " 1069,\n",
       " 1359,\n",
       " 1394,\n",
       " 1408,\n",
       " 1490,\n",
       " 1693,\n",
       " 1756,\n",
       " 2045,\n",
       " 2219,\n",
       " 2716,\n",
       " 2812,\n",
       " 2883,\n",
       " 3166,\n",
       " 3359,\n",
       " 3389,\n",
       " 3712,\n",
       " 4229,\n",
       " 4281,\n",
       " 4363,\n",
       " 4382,\n",
       " 1065,\n",
       " 1069,\n",
       " 1336,\n",
       " 1394,\n",
       " 2985,\n",
       " 3166,\n",
       " 3389,\n",
       " 1509,\n",
       " 2985,\n",
       " 3166,\n",
       " 3712,\n",
       " 610,\n",
       " 1848,\n",
       " 1620,\n",
       " 1693,\n",
       " 1964,\n",
       " 2459,\n",
       " 2883,\n",
       " 2985,\n",
       " 3359,\n",
       " 3712]"
      ]
     },
     "execution_count": 107,
     "metadata": {},
     "output_type": "execute_result"
    }
   ],
   "source": [
    "num = []\n",
    "for i in range(len(CART_abstract_title_no)):\n",
    "    num.append(CART_abstract_title_no[i][0])\n",
    "    \n",
    "num   "
   ]
  },
  {
   "cell_type": "code",
   "execution_count": 108,
   "metadata": {
    "collapsed": true
   },
   "outputs": [],
   "source": [
    "CAR_Titles, CAR_Abstract = [], []\n",
    "for i in range(len(num)):\n",
    "    CAR_Titles.append(title1[num[i]])\n",
    "    CAR_Abstract.append(abstract[i])\n"
   ]
  },
  {
   "cell_type": "code",
   "execution_count": 252,
   "metadata": {
    "collapsed": true
   },
   "outputs": [],
   "source": [
    "\n",
    "patients = []\n",
    "for i in range(len(CAR_Abstract)):\n",
    "    lst = CAR_Abstract[i].split()\n",
    "    temp = []\n",
    "    for j in range(len(lst)):\n",
    "        if lst[j] == 'patients' and lst[j-1].isdigit():\n",
    "            temp.append(lst[j-1])\n",
    "\n",
    "    patients.append(temp)\n",
    "   \n",
    "\n",
    "        \n",
    "#         patients = [i for i in patients if i.isdigit()]         \n",
    "# patients = [int(i) for i in patients]\n",
    "# patients = np.amax(np.array([patients])).astype(int)\n",
    "# print 'number of patients = ' + str(patients)"
   ]
  },
  {
   "cell_type": "code",
   "execution_count": 253,
   "metadata": {},
   "outputs": [
    {
     "data": {
      "text/plain": [
       "(23,\n",
       " [['93', '67', '48', '30', '18'],\n",
       "  ['143'],\n",
       "  ['71', '13', '6', '4'],\n",
       "  ['140', '93', '47'],\n",
       "  [],\n",
       "  [],\n",
       "  ['60'],\n",
       "  [],\n",
       "  ['172', '240'],\n",
       "  ['367'],\n",
       "  ['10', '6', '37', '3'],\n",
       "  ['108', '61'],\n",
       "  [],\n",
       "  ['57'],\n",
       "  [],\n",
       "  [],\n",
       "  [],\n",
       "  [],\n",
       "  ['25', '50'],\n",
       "  ['11439'],\n",
       "  ['24'],\n",
       "  ['8', '2'],\n",
       "  ['108'],\n",
       "  ['309'],\n",
       "  [],\n",
       "  ['79', '31', '168', '317', '44', '15', '41', '15', '18', '32'],\n",
       "  [],\n",
       "  [],\n",
       "  [],\n",
       "  [],\n",
       "  [],\n",
       "  [],\n",
       "  [],\n",
       "  [],\n",
       "  [],\n",
       "  ['142', '17', '3'],\n",
       "  [],\n",
       "  ['19', '10'],\n",
       "  [],\n",
       "  [],\n",
       "  [],\n",
       "  ['401', '60'],\n",
       "  [],\n",
       "  ['2']])"
      ]
     },
     "execution_count": 253,
     "metadata": {},
     "output_type": "execute_result"
    }
   ],
   "source": [
    "filt1=[]\n",
    "for i in range(len(patients)):\n",
    "    if patients[i] == []:\n",
    "        filt1.append(i)\n",
    "        \n",
    "        \n",
    "len(filt1), patients"
   ]
  },
  {
   "cell_type": "code",
   "execution_count": 255,
   "metadata": {},
   "outputs": [
    {
     "data": {
      "text/plain": [
       "[['93', '67', '48', '30', '18'],\n",
       " ['143'],\n",
       " ['71', '13', '6', '4'],\n",
       " ['140', '93', '47'],\n",
       " ['60'],\n",
       " ['172', '240'],\n",
       " ['367'],\n",
       " ['10', '6', '37', '3'],\n",
       " ['108', '61'],\n",
       " ['57'],\n",
       " ['25', '50'],\n",
       " ['11439'],\n",
       " ['24'],\n",
       " ['8', '2'],\n",
       " ['108'],\n",
       " ['309'],\n",
       " ['79', '31', '168', '317', '44', '15', '41', '15', '18', '32'],\n",
       " ['142', '17', '3'],\n",
       " ['19', '10'],\n",
       " ['401', '60'],\n",
       " ['2']]"
      ]
     },
     "execution_count": 255,
     "metadata": {},
     "output_type": "execute_result"
    }
   ],
   "source": [
    "temp = []\n",
    "for j in range(len(patients)):\n",
    "    if patients[j] != []:\n",
    "        temp.append(patients[j])\n",
    "\n",
    "\n",
    "temp\n",
    "\n"
   ]
  },
  {
   "cell_type": "code",
   "execution_count": 157,
   "metadata": {},
   "outputs": [
    {
     "data": {
      "text/plain": [
       "'<title>Paper: Initial Results from a Phase 1 Clinical Study of bb21217, a Next-Generation Anti Bcma CAR T Therapy</title>'"
      ]
     },
     "execution_count": 157,
     "metadata": {},
     "output_type": "execute_result"
    }
   ],
   "source": [
    "CAR_Titles[0]"
   ]
  },
  {
   "cell_type": "code",
   "execution_count": 164,
   "metadata": {
    "collapsed": true
   },
   "outputs": [],
   "source": [
    "lst = CAR_Abstract[0].split()"
   ]
  },
  {
   "cell_type": "code",
   "execution_count": 165,
   "metadata": {},
   "outputs": [
    {
     "name": "stdout",
     "output_type": "stream",
     "text": [
      "number of patients = 143\n"
     ]
    }
   ],
   "source": [
    "patients = []\n",
    "for i in range(len(lst)):\n",
    "    if lst[i] == 'patients' and lst[i-1].isdigit():\n",
    "        patients.append(lst[i-1])\n",
    "    else:\n",
    "        patients.append('Not Applicable')\n",
    "        \n",
    "patients = [i for i in patients if i.isdigit()]        \n",
    "patients = [int(i) for i in patients]\n",
    "patients = np.amax(np.array([patients])).astype(int)\n",
    "print 'number of patients = ' + str(patients)"
   ]
  },
  {
   "cell_type": "code",
   "execution_count": 256,
   "metadata": {},
   "outputs": [
    {
     "data": {
      "text/plain": [
       "'[<div class=\"abstract\">\\r\\n<div>Several prognostic models have been developed to predict survival outcomes and response in patients with myelofibrosis (MF). MIPSS70 prognostic system, developed by incorporation of all the key clinical characteristics, cytogenetics, and mutational factors into one system, has recently been revised to MIPSS70+ v2.0 with refinements in degrees of anemia, cytogenetics, and HMR. While allogeneic hematopoietic cell transplantation (alloHCT) is the only curative treatment for patients with MF, limited data exists on the impact of molecular markers on transplant outcomes. Here, we evaluated the transplant outcome in MF patients who uniformly received fludarabine/melphalan (FluMel) conditioning at City of Hope and assessed the impact of cytogenetics, somatic mutations on transplant outcomes based on a 72 gene next-generation sequencing (NGS) panel and MIPSS 70+ v2.0.\\r\\n<p>A total of 110 consecutive MF patients (primary: n=58, secondary: n=52) without prior acute leukemic transformation, underwent alloHCT between 2004 and 2017. Median age at the time of transplant was 58.5 years (range: 38-72 years) with median interval from diagnosis of primary or secondary MF to HCT of 15.2 months (range: 1.6-332.5 months). AlloHCT donors were matched related (n=51), matched unrelated (n=44), and mismatched unrelated (n=15). Intermediate-2 and High risk by DIPSS accounted for 83 (76%) of patients at the time of transplant. Tacrolimus/Sirolimus-based GVHD prophylaxis was used in 100 (91%) patients, and 16 had splenectomy prior to alloHCT.\\r\\n</p><p>Pre-transplant DNA sample were available for 93 patients and cytogenetics information was available for 106 patients; among which 60 had abnormal cytogenetics. Based on recently developed revised cytogenetic risk stratification on transplant outcomes, we identified 67 patients (61%) in favorable, 24 (22%) in unfavorable, and 15 (14%) in very high risk groups. Median number of 2 mutations were detected with at least one mutation in 95% (n=88) of patients. JAK2 V617F was the most common alteration noted in 54 (58.1%) patients. Other common mutations were ASXL1 (n=41, 44%), CALR type 1 (n=15, 16.1%), TET2 (n=12, 13%) SRSF2 and DNMT3A (each n=10, 11%). No detectable mutations were found in 5 (5.4%) patients. HMR genes (ASLX1, EZH2, IDH1/2, SRSF2, and U2AF1) were identified in 48 patients (52%), with 30 patients (32%) carrying one and 18 patients (19%) carrying more than 1 HMRs.\\r\\n</p><p>With a median follow-up of 63.7 months (range: 11.9-158.5), 5 year overall survival (OS) and non-relapse mortality (NRM) were 65% (95% CI: 54-73) and 17% (95%CI: 10%-24%), respectively. Detailed transplant outcomes were previously reported (Ali <em>et al</em>. American Society of Hematology. Vol. 130. Atlanta, GA: Blood; 2017:199) (Figure 1a). On multivariable analysis, unfavorable and VHR cytogenetic changes had significantly shorter OS and PFS (p=0.001 and 0.008), and relapse risk (p=0.035) (Figure1b). Triple negative status (p=0.063), HMR (p=0.73), and more than 1 HMR (p=0.59) did not significantly impact survival post-HCT. (Figure1c) Similarly, CALR type 1 (p=0.42), and ASXL1 (p=0.29) mutations also did not impact survival after HCT. Only CBL mutation was significantly associated with lower OS (HR=2.64, 95% CI: 1.09-6.38, p=0.032) and lower DFS (HR=4.35, 95% CI: 1.83-10.36, p&lt;0.001), largely attributable to increased NRM (HR=3.68, 95% CI: 1.45-9.35, p=0.004). In addition U2AF1 mutations were significantly associated with NRM (HR=3.42, 95%CI: 1.50-7.80, p=0.009). Per MIPSS70+ 2.0, patients were classified into intermediate (n=11), high (n=47), or very high-risk (VHR) (n=35). MIPSS70+ 2.0 predicted OS, DFS, and NRM. Compared to high risk group, intermediate risk patients had better OS (HR=0.291, 95% CI: 0.04-2.26) and DFS (HR=0.24, 95% CI: .03-1.91), whereas VHR group had much lower OS (HR=5.05, 95% CI: 2.39-10.74, p=&lt;0.001) and DFS (HR=3.87, 95% CI: 1.9.0-7.88 p&lt;0.001). (Figure 1d) Compared to high risk, intermediate risk group had lower and VHR had higher NRM (HR=0.51, 95% CI: 0.06-4.23), and (HR=3.24, 95% CI: 1.47 \\xe2\\x80\\x93 7.13, p=0.004), respectively.\\r\\n</p><p>In summary, we are presenting one of the largest single center experiences of FluMel-based alloHCT for MF patients, demonstrating revised cytogenetic changes and MIPSS70+ v2.0 accurately predicts transplant outcomes, thus would better inform physicians and patients in discussing and decision making about alloHCT.<br /><a href=\"/data/abstract/ash/2018/9/3/Paper_112239_abstract_228892_0.jpg\" target=\"_blank\"><img src=\"/data/abstract/ash/2018/9/3/Paper_112239_abstract_228892_0.jpg\" class=\"documentimage\" /></a></p></div>\\r\\n</div>]'"
      ]
     },
     "execution_count": 256,
     "metadata": {},
     "output_type": "execute_result"
    }
   ],
   "source": [
    "CAR_Abstract[0]"
   ]
  },
  {
   "cell_type": "code",
   "execution_count": 258,
   "metadata": {},
   "outputs": [
    {
     "data": {
      "text/plain": [
       "'[<div class=\"abstract\">\\r\\n<div><strong>Background</strong>: Acute myeloid leukemia (AML) secondary to haematological neoplasia or other malignant diseases, defined as secondary AML (sAML), is thought to have an inferior prognosis as compared with de novo AML. However, when corrected for other risk factors such as age and cytogenetic risk, differences are less clear. In particular, it is uncertain whether outcome after allogeneic stem cell transplantation (alloSCT) is different. Thus, the Acute Leukemia Working Party (ALWP) of the European Society for Blood and Marrow Transplantation (EBMT) performed a registry-based analysis to compare results after alloSCT for sAML versus de novo AML.\\r\\n<p><strong>Methods:</strong> Inclusion criteria were age &gt;= 18y and alloSCT for de novo or sAML from a matched related, matched unrelated or T-cell replete haploidentical donor between 2000 and 2016. Patients without information on cytogenetics were excluded. 11439 patients with de novo and 1325 with sAML were identified. A multivariate Cox model was performed to account for imbalances of risk factors between the two cohorts; it was stratified for different stages at alloSCT, due to a significant interaction between stage at transplant and diagnosis (de novo or secondary) . In a second approach, a matched pair analysis of secondary versus de novo AML was done, using the following criteria for matching: Age (+/-3 years), stage at alloSCT, Karnofsky performance score, conditioning intensity, in and ex vivo T cell depletion, donor type, donor/recipient sex and CMV-status combination, cytogenetics, and graft source.\\r\\n</p><p><strong>Results</strong>: Median follow up after alloSCT was 36 and 33 months for de novo and sAML, respectively. In a multivariate Cox model focusing on transplants in first complete remission (CR1), sAML was associated with a higher non-relapse mortality (NRM; HR=1.32; p&lt;10<sup>-5</sup>) and relapse incidence (HR=1.28; p=0.0002), and a lower leukemia-free survival (LFS, HR=1.30;, p&lt;10<sup>-5</sup>), overall survival (OS, HR=1.32; p&lt;10<sup>-5 </sup>) and GvHD/relapse free survival (GRFS, HR=1.20; p&lt;10<sup>-5 </sup>), as compared to de novo AML. Other prognostic factors for OS were age (p=&lt;10-5), cytogenetics (intermediate, p=0.002, poor, p=&lt;10-5), patient/donor sex combination (female in male, p=&lt;10-5) KPS (&lt;&gt;80, p=0.003) and donor type (unrelated (UD) 10/10 match, p=0.007; UD 9/10 match, p=10-5; haplo, p=0.002)., Three-year cumulative incidence of relapse and non-relapse mortality after alloSCT in CR1 were 28.5%/16.4% for de novo AML (n=7691), and 35%/23.4% for sAML (n=909), 3-year overall survival (OS), leukemia-free survival (LFS) and GvHD-relapse-free survival (GRFS) were 60.8%, 55.1% and 38.6%for de novo and 46.7%, 41.6% and 28.4% for sAML. (<strong>Figure 1</strong>). In contrast, when focusing on patients transplanted for primary refractory disease (sAML, n=199, de novo AML, n=607) or for relapsed leukemia (sAML, n=124, de novo AML, n=1009), Cox models did not identify sAML as a relevant factor for outcome. Risk factors for OS in advanced disease stages are presented in <strong>Table 1</strong>.\\r\\n</p><p>Using the criteria described above, 877 well-matched pairs were identified. The pair-matched analysis confirmed the above findings: Over all patients, sAML was associated with higher NRM (p=0.004) and lower LFS (p=0.004), OS (p=0.008) and GRFS (0.04). However, when the analysis was stratified by stage at SCT, again differences were only seen among patients transplanted in CR1 (719 pairs, 82%), but not after alloSCT in advanced disease.\\r\\n</p><p><strong>Conclusion</strong>: Our large-scale, registry-based analysis identified sAML as an independent risk factor for outcome after alloSCT in first complete remission. In primary refractory and relapsed AML, other factors such as age, cytogenetics and performance status were of higher relevance. This data may help to improve risk stratification and prognostic estimates after alloSCT for sAML.<br /><a href=\"/data/abstract/ash/2018/9/7/Paper_113779_abstract_230261_0.JPG\" target=\"_blank\"><img src=\"/data/abstract/ash/2018/9/7/Paper_113779_abstract_230261_0.JPG\" class=\"documentimage\" /></a></p></div>\\r\\n</div>]'"
      ]
     },
     "execution_count": 258,
     "metadata": {},
     "output_type": "execute_result"
    }
   ],
   "source": [
    "CAR_Abstract[19]"
   ]
  },
  {
   "cell_type": "code",
   "execution_count": 259,
   "metadata": {},
   "outputs": [
    {
     "data": {
      "text/plain": [
       "'<title>Paper: Engineering an Optimized Trimeric APRIL-Based CAR to Broaden Targetability of Multiple Myeloma</title>'"
      ]
     },
     "execution_count": 259,
     "metadata": {},
     "output_type": "execute_result"
    }
   ],
   "source": [
    "CAR_Titles[19]"
   ]
  },
  {
   "cell_type": "code",
   "execution_count": null,
   "metadata": {
    "collapsed": true
   },
   "outputs": [],
   "source": []
  }
 ],
 "metadata": {
  "kernelspec": {
   "display_name": "Python 2",
   "language": "python",
   "name": "python2"
  },
  "language_info": {
   "codemirror_mode": {
    "name": "ipython",
    "version": 2
   },
   "file_extension": ".py",
   "mimetype": "text/x-python",
   "name": "python",
   "nbconvert_exporter": "python",
   "pygments_lexer": "ipython2",
   "version": "2.7.12"
  }
 },
 "nbformat": 4,
 "nbformat_minor": 2
}
