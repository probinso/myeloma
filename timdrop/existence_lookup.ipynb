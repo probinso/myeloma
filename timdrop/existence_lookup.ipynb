{
 "cells": [
  {
   "cell_type": "code",
   "execution_count": 34,
   "metadata": {},
   "outputs": [
    {
     "data": {
      "text/plain": [
       "(   Unnamed: 0        Medication\n",
       " 0           0        Dabrafenib\n",
       " 1           1        Trametinib\n",
       " 2           2         SGN-CD48A\n",
       " 3           3       Carfilzomib\n",
       " 4           4  Cyclophosphamide,\n",
       " Index(['Unnamed: 0', 'Medication'], dtype='object'))"
      ]
     },
     "execution_count": 34,
     "metadata": {},
     "output_type": "execute_result"
    }
   ],
   "source": [
    "from collections import defaultdict\n",
    "\n",
    "import pickle\n",
    "\n",
    "import pandas as pd\n",
    "\n",
    "df = pd.read_csv('/Users/philipr/Downloads/Medication_Phase1.csv')\n",
    "\n",
    "df.head(), df.columns"
   ]
  },
  {
   "cell_type": "code",
   "execution_count": 38,
   "metadata": {},
   "outputs": [],
   "source": [
    "\n",
    "lookup = defaultdict(set)\n",
    "\n",
    "def update(txt_row):\n",
    "    for word in txt_row.lower().split():\n",
    "        lookup[word].add(txt_row)\n",
    "\n",
    "_ = df['Medication'].apply(update)"
   ]
  },
  {
   "cell_type": "code",
   "execution_count": 39,
   "metadata": {},
   "outputs": [
    {
     "name": "stdout",
     "output_type": "stream",
     "text": [
      "0   dexamethasone\n",
      "1   ACY-1215 in combination with pomalidomide and dexamethasone\n",
      "2   Vorinostat, Lenalidomide, Carfilzomib, Dexamethasone\n",
      "3   Carfilzomib and Dexamethasone\n",
      "4   Biological: Dexamethasone\n",
      "5   SL-401/ Pomalidomide/ Dexamethasone\n",
      "6   CB-839 and low dose dexamethasone\n",
      "7   JNJ-2641585 / VELCADE / Dexamethasone\n",
      "8   Phase 1b: CWP232291, Lenalidomide, Dexamethasone\n",
      "9   VLX1570 and dexamethasone\n",
      "10  low-dose dexamethasone\n",
      "11  Comparator: dexamethasone\n",
      "12  Vorinostat, Lenalinomide and Dexamethasone\n",
      "13  Dexamethasone\n",
      "14  ASP7487, Velcade, Dexamethasone\n",
      "15  bortezomib, dexamethasone\n",
      "16  carfilzomib, lenalidomide plus dexamethasone\n",
      "17  IXAZOMIB + Lenalidomide + Dexamethasone\n",
      "18  TH-302 and Dexamethasone\n",
      "19  TH-302 Dose Escalation and Dexamethasone in Combination with Pomalidomide\n",
      "20  TH-302 Dose Escalation and Dexamethasone in Combination with Bortezomib\n",
      "21  Bortezomib; Pegylated Liposomal Doxorubicin; Dexamethasone (VDD)\n",
      "22  Filanesib, pomalidomide and dexamethasone\n",
      "23  CB-839, pomalidomide, and low dose dexamethasone\n",
      "24  ACY-1215 (Ricolinostat) in combination with pomalidomide and dexamethasone\n"
     ]
    }
   ],
   "source": [
    "for i, doc in enumerate(lookup['dexamethasone']):\n",
    "    print(f'{i: <3}', doc)"
   ]
  },
  {
   "cell_type": "code",
   "execution_count": 41,
   "metadata": {},
   "outputs": [],
   "source": [
    "with open('TE_lookup.pkl', 'wb') as fd:\n",
    "    pickle.dump(lookup, file=fd)\n"
   ]
  }
 ],
 "metadata": {
  "kernelspec": {
   "display_name": "Python 3",
   "language": "python",
   "name": "python3"
  },
  "language_info": {
   "codemirror_mode": {
    "name": "ipython",
    "version": 3
   },
   "file_extension": ".py",
   "mimetype": "text/x-python",
   "name": "python",
   "nbconvert_exporter": "python",
   "pygments_lexer": "ipython3",
   "version": "3.6.5"
  }
 },
 "nbformat": 4,
 "nbformat_minor": 2
}
