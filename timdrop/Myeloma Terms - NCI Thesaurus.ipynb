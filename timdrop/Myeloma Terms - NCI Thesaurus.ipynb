{
 "cells": [
  {
   "cell_type": "code",
   "execution_count": 1,
   "metadata": {
    "collapsed": true
   },
   "outputs": [],
   "source": [
    "import pandas as pd"
   ]
  },
  {
   "cell_type": "code",
   "execution_count": 2,
   "metadata": {
    "collapsed": true
   },
   "outputs": [],
   "source": [
    "NCI_Thesaurus = pd.read_csv('D:\\Python_Database\\Thesaurus.csv')"
   ]
  },
  {
   "cell_type": "code",
   "execution_count": 3,
   "metadata": {
    "collapsed": true
   },
   "outputs": [],
   "source": [
    "# del NCI_Thesaurus['Unnamed: 5']\n",
    "# del NCI_Thesaurus['Unnamed: 6']\n",
    "# del NCI_Thesaurus['Description 3']\n",
    "del NCI_Thesaurus['ID 1']\n",
    "del NCI_Thesaurus['ID 2']"
   ]
  },
  {
   "cell_type": "code",
   "execution_count": 4,
   "metadata": {},
   "outputs": [
    {
     "data": {
      "text/html": [
       "<div>\n",
       "<style scoped>\n",
       "    .dataframe tbody tr th:only-of-type {\n",
       "        vertical-align: middle;\n",
       "    }\n",
       "\n",
       "    .dataframe tbody tr th {\n",
       "        vertical-align: top;\n",
       "    }\n",
       "\n",
       "    .dataframe thead th {\n",
       "        text-align: right;\n",
       "    }\n",
       "</style>\n",
       "<table border=\"1\" class=\"dataframe\">\n",
       "  <thead>\n",
       "    <tr style=\"text-align: right;\">\n",
       "      <th></th>\n",
       "      <th>URL</th>\n",
       "      <th>Description 1</th>\n",
       "      <th>Description 2</th>\n",
       "      <th>Unnamed: 5</th>\n",
       "      <th>Unnamed: 6</th>\n",
       "      <th>Description 3</th>\n",
       "    </tr>\n",
       "  </thead>\n",
       "  <tbody>\n",
       "    <tr>\n",
       "      <th>0</th>\n",
       "      <td>&lt;http://ncicb.nci.nih.gov/xml/owl/EVS/Thesauru...</td>\n",
       "      <td>Percutaneous Coronary Intervention for ST Elev...</td>\n",
       "      <td>A percutaneous coronary intervention is necess...</td>\n",
       "      <td>NaN</td>\n",
       "      <td>NaN</td>\n",
       "      <td>Therapeutic or Preventive Procedure</td>\n",
       "    </tr>\n",
       "    <tr>\n",
       "      <th>1</th>\n",
       "      <td>&lt;http://ncicb.nci.nih.gov/xml/owl/EVS/Thesauru...</td>\n",
       "      <td>Percutaneous Coronary Intervention for ST Elev...</td>\n",
       "      <td>A percutaneous coronary intervention is necess...</td>\n",
       "      <td>NaN</td>\n",
       "      <td>NaN</td>\n",
       "      <td>Therapeutic or Preventive Procedure</td>\n",
       "    </tr>\n",
       "    <tr>\n",
       "      <th>2</th>\n",
       "      <td>&lt;http://ncicb.nci.nih.gov/xml/owl/EVS/Thesauru...</td>\n",
       "      <td>Percutaneous Coronary Intervention for ST Elev...</td>\n",
       "      <td>A percutaneous coronary intervention is necess...</td>\n",
       "      <td>NaN</td>\n",
       "      <td>NaN</td>\n",
       "      <td>Therapeutic or Preventive Procedure</td>\n",
       "    </tr>\n",
       "    <tr>\n",
       "      <th>3</th>\n",
       "      <td>&lt;http://ncicb.nci.nih.gov/xml/owl/EVS/Thesauru...</td>\n",
       "      <td>Percutaneous Mitral Valve Repair|PERCUTANEOUS ...</td>\n",
       "      <td>Invasive procedure through a puncture in the s...</td>\n",
       "      <td>NaN</td>\n",
       "      <td>NaN</td>\n",
       "      <td>Therapeutic or Preventive Procedure</td>\n",
       "    </tr>\n",
       "    <tr>\n",
       "      <th>4</th>\n",
       "      <td>&lt;http://ncicb.nci.nih.gov/xml/owl/EVS/Thesauru...</td>\n",
       "      <td>Pericardial Stripping|PERICARDIAL STRIPPING</td>\n",
       "      <td>Removal or resection of the pericardium. (ACC)</td>\n",
       "      <td>NaN</td>\n",
       "      <td>NaN</td>\n",
       "      <td>Therapeutic or Preventive Procedure</td>\n",
       "    </tr>\n",
       "  </tbody>\n",
       "</table>\n",
       "</div>"
      ],
      "text/plain": [
       "                                                 URL  \\\n",
       "0  <http://ncicb.nci.nih.gov/xml/owl/EVS/Thesauru...   \n",
       "1  <http://ncicb.nci.nih.gov/xml/owl/EVS/Thesauru...   \n",
       "2  <http://ncicb.nci.nih.gov/xml/owl/EVS/Thesauru...   \n",
       "3  <http://ncicb.nci.nih.gov/xml/owl/EVS/Thesauru...   \n",
       "4  <http://ncicb.nci.nih.gov/xml/owl/EVS/Thesauru...   \n",
       "\n",
       "                                       Description 1  \\\n",
       "0  Percutaneous Coronary Intervention for ST Elev...   \n",
       "1  Percutaneous Coronary Intervention for ST Elev...   \n",
       "2  Percutaneous Coronary Intervention for ST Elev...   \n",
       "3  Percutaneous Mitral Valve Repair|PERCUTANEOUS ...   \n",
       "4        Pericardial Stripping|PERICARDIAL STRIPPING   \n",
       "\n",
       "                                       Description 2 Unnamed: 5 Unnamed: 6  \\\n",
       "0  A percutaneous coronary intervention is necess...        NaN        NaN   \n",
       "1  A percutaneous coronary intervention is necess...        NaN        NaN   \n",
       "2  A percutaneous coronary intervention is necess...        NaN        NaN   \n",
       "3  Invasive procedure through a puncture in the s...        NaN        NaN   \n",
       "4     Removal or resection of the pericardium. (ACC)        NaN        NaN   \n",
       "\n",
       "                         Description 3  \n",
       "0  Therapeutic or Preventive Procedure  \n",
       "1  Therapeutic or Preventive Procedure  \n",
       "2  Therapeutic or Preventive Procedure  \n",
       "3  Therapeutic or Preventive Procedure  \n",
       "4  Therapeutic or Preventive Procedure  "
      ]
     },
     "execution_count": 4,
     "metadata": {},
     "output_type": "execute_result"
    }
   ],
   "source": [
    "NCI_Thesaurus.head()"
   ]
  },
  {
   "cell_type": "code",
   "execution_count": 6,
   "metadata": {},
   "outputs": [
    {
     "name": "stdout",
     "output_type": "stream",
     "text": [
      "What is the item you wished described? velcade\n",
      "\n",
      "\n",
      "\u001b[1mvelcade\u001b[0m\n",
      "A dipeptide boronic acid analogue with antineoplastic activity. Bortezomib reversibly inhibits the 26S proteasome, a large protease complex that degrades ubiquinated proteins. By blocking the targeted proteolysis normally performed by the proteasome, bortezomib disrupts various cell signaling pathways, leading to cell cycle arrest, apoptosis, and inhibition of angiogenesis. Specifically, the agent inhibits nuclear factor (NF)-kappaB, a protein that is constitutively activated in some cancers, thereby interfering with NF-kappaB-mediated cell survival, tumor growth, and angiogenesis. In vivo, bortezomib delays tumor growth and enhances the cytotoxic effects of radiation and chemotherapy.\n",
      "Organic Chemical|Pharmacologic Substance\n"
     ]
    }
   ],
   "source": [
    "term = raw_input('What is the item you wished described? ')\n",
    "\n",
    "class color:\n",
    "   PURPLE = '\\033[95m'\n",
    "   CYAN = '\\033[96m'\n",
    "   DARKCYAN = '\\033[36m'\n",
    "   BLUE = '\\033[94m'\n",
    "   GREEN = '\\033[92m'\n",
    "   YELLOW = '\\033[93m'\n",
    "   RED = '\\033[91m'\n",
    "   BOLD = '\\033[1m'\n",
    "   UNDERLINE = '\\033[4m'\n",
    "   END = '\\033[0m'\n",
    "    \n",
    "temp = NCI_Thesaurus.apply(lambda row: row.astype(str).str.contains(term).any(), axis=1)\n",
    "for i in range(len(temp.tolist())):\n",
    "    if temp.tolist()[i] == True:\n",
    "        print '\\n'\n",
    "        print color.BOLD + term + color.END\n",
    "        print NCI_Thesaurus.loc[i]['Description 2']\n",
    "        print NCI_Thesaurus.loc[i]['Description 3']"
   ]
  },
  {
   "cell_type": "code",
   "execution_count": null,
   "metadata": {
    "collapsed": true
   },
   "outputs": [],
   "source": []
  }
 ],
 "metadata": {
  "kernelspec": {
   "display_name": "Python 2",
   "language": "python",
   "name": "python2"
  },
  "language_info": {
   "codemirror_mode": {
    "name": "ipython",
    "version": 2
   },
   "file_extension": ".py",
   "mimetype": "text/x-python",
   "name": "python",
   "nbconvert_exporter": "python",
   "pygments_lexer": "ipython2",
   "version": "2.7.12"
  }
 },
 "nbformat": 4,
 "nbformat_minor": 2
}
