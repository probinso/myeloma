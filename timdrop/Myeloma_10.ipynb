{
 "cells": [
  {
   "cell_type": "code",
   "execution_count": 1,
   "metadata": {
    "collapsed": true
   },
   "outputs": [],
   "source": [
    "import pandas as pd\n",
    "import numpy as np\n",
    "import urllib2\n",
    "import webbrowser\n",
    "import os\n",
    "import bs4,  re\n",
    "from bs4 import BeautifulSoup\n",
    "import requests\n",
    "import nltk\n",
    "from nltk.tokenize import word_tokenize\n",
    "import matplotlib.pyplot as plt\n",
    "%matplotlib inline\n",
    "from datetime import datetime"
   ]
  },
  {
   "cell_type": "markdown",
   "metadata": {},
   "source": [
    "### The cell below opens (and converts to a dataframe) a csv file containing a URL that, when opened, will automatically download a csv file tuned to the prescribed search.  For example, the first search performed looked (1) myeloma, (2) USA, (3) Recruiting AND Non yet recruiting AND Active, but no longer recruiting, (4) Car-T.  The URL syntax can be found at ClinicalTrials.gov site.\n",
    "\n",
    "\n"
   ]
  },
  {
   "cell_type": "code",
   "execution_count": 2,
   "metadata": {
    "collapsed": true
   },
   "outputs": [],
   "source": [
    "df = pd.read_csv('D:\\Python_Database\\Myeloma\\keyword_search.csv')"
   ]
  },
  {
   "cell_type": "code",
   "execution_count": 3,
   "metadata": {},
   "outputs": [
    {
     "data": {
      "text/html": [
       "<div>\n",
       "<style scoped>\n",
       "    .dataframe tbody tr th:only-of-type {\n",
       "        vertical-align: middle;\n",
       "    }\n",
       "\n",
       "    .dataframe tbody tr th {\n",
       "        vertical-align: top;\n",
       "    }\n",
       "\n",
       "    .dataframe thead th {\n",
       "        text-align: right;\n",
       "    }\n",
       "</style>\n",
       "<table border=\"1\" class=\"dataframe\">\n",
       "  <thead>\n",
       "    <tr style=\"text-align: right;\">\n",
       "      <th></th>\n",
       "      <th>label</th>\n",
       "      <th>url</th>\n",
       "    </tr>\n",
       "  </thead>\n",
       "  <tbody>\n",
       "    <tr>\n",
       "      <th>0</th>\n",
       "      <td>CarT</td>\n",
       "      <td>https://clinicaltrials.gov/ct2/results/downloa...</td>\n",
       "    </tr>\n",
       "    <tr>\n",
       "      <th>1</th>\n",
       "      <td>MM</td>\n",
       "      <td>https://clinicaltrials.gov/ct2/results/downloa...</td>\n",
       "    </tr>\n",
       "  </tbody>\n",
       "</table>\n",
       "</div>"
      ],
      "text/plain": [
       "  label                                                url\n",
       "0  CarT  https://clinicaltrials.gov/ct2/results/downloa...\n",
       "1    MM  https://clinicaltrials.gov/ct2/results/downloa..."
      ]
     },
     "execution_count": 3,
     "metadata": {},
     "output_type": "execute_result"
    }
   ],
   "source": [
    "df.head()"
   ]
  },
  {
   "cell_type": "markdown",
   "metadata": {},
   "source": [
    "### The cells below open the url stored in the dataframe, and then moves the csv file from download to the desired file location\n"
   ]
  },
  {
   "cell_type": "code",
   "execution_count": 4,
   "metadata": {},
   "outputs": [
    {
     "data": {
      "text/plain": [
       "True"
      ]
     },
     "execution_count": 4,
     "metadata": {},
     "output_type": "execute_result"
    }
   ],
   "source": [
    "chrome_path = 'C:/Program Files (x86)/Google/Chrome/Application/chrome.exe %s'\n",
    "url = df['url'].tolist()\n",
    "webbrowser.get(using=chrome_path).open(url[1])"
   ]
  },
  {
   "cell_type": "code",
   "execution_count": 6,
   "metadata": {},
   "outputs": [],
   "source": [
    "os.rename(\"C:/Users/robin/Downloads/SearchResults.csv\", \"D:/Python_Database/Myeloma/Results.csv\")"
   ]
  },
  {
   "cell_type": "code",
   "execution_count": 7,
   "metadata": {
    "collapsed": true
   },
   "outputs": [],
   "source": [
    "df = pd.read_csv('D:\\Python_Database\\Myeloma\\Results.csv')"
   ]
  },
  {
   "cell_type": "code",
   "execution_count": 8,
   "metadata": {},
   "outputs": [
    {
     "data": {
      "text/html": [
       "<div>\n",
       "<style scoped>\n",
       "    .dataframe tbody tr th:only-of-type {\n",
       "        vertical-align: middle;\n",
       "    }\n",
       "\n",
       "    .dataframe tbody tr th {\n",
       "        vertical-align: top;\n",
       "    }\n",
       "\n",
       "    .dataframe thead th {\n",
       "        text-align: right;\n",
       "    }\n",
       "</style>\n",
       "<table border=\"1\" class=\"dataframe\">\n",
       "  <thead>\n",
       "    <tr style=\"text-align: right;\">\n",
       "      <th></th>\n",
       "      <th>Rank</th>\n",
       "      <th>NCT Number</th>\n",
       "      <th>Title</th>\n",
       "      <th>Acronym</th>\n",
       "      <th>Status</th>\n",
       "      <th>Study Results</th>\n",
       "      <th>Conditions</th>\n",
       "      <th>Interventions</th>\n",
       "      <th>Outcome Measures</th>\n",
       "      <th>Sponsor/Collaborators</th>\n",
       "      <th>...</th>\n",
       "      <th>Other IDs</th>\n",
       "      <th>Start Date</th>\n",
       "      <th>Primary Completion Date</th>\n",
       "      <th>Completion Date</th>\n",
       "      <th>First Posted</th>\n",
       "      <th>Results First Posted</th>\n",
       "      <th>Last Update Posted</th>\n",
       "      <th>Locations</th>\n",
       "      <th>Study Documents</th>\n",
       "      <th>URL</th>\n",
       "    </tr>\n",
       "  </thead>\n",
       "  <tbody>\n",
       "    <tr>\n",
       "      <th>0</th>\n",
       "      <td>1</td>\n",
       "      <td>NCT03549442</td>\n",
       "      <td>Up-front CART-BCMA With or Without huCART19 in...</td>\n",
       "      <td>NaN</td>\n",
       "      <td>Recruiting</td>\n",
       "      <td>No Results Available</td>\n",
       "      <td>Multiple Myeloma</td>\n",
       "      <td>Combination Product: BCMA CART + huCART19|Comb...</td>\n",
       "      <td>Adverse event reporting|Clinical outcomes afte...</td>\n",
       "      <td>University of Pennsylvania|Novartis</td>\n",
       "      <td>...</td>\n",
       "      <td>828773</td>\n",
       "      <td>May 9, 2018</td>\n",
       "      <td>May 2020</td>\n",
       "      <td>May 2021</td>\n",
       "      <td>June 8, 2018</td>\n",
       "      <td>NaN</td>\n",
       "      <td>June 20, 2018</td>\n",
       "      <td>Univ. of Pennsylvania, Philadelphia, Pennsylva...</td>\n",
       "      <td>NaN</td>\n",
       "      <td>https://ClinicalTrials.gov/show/NCT03549442</td>\n",
       "    </tr>\n",
       "    <tr>\n",
       "      <th>1</th>\n",
       "      <td>2</td>\n",
       "      <td>NCT03464916</td>\n",
       "      <td>Study to Evaluate the Safety and Efficacy of A...</td>\n",
       "      <td>NaN</td>\n",
       "      <td>Recruiting</td>\n",
       "      <td>No Results Available</td>\n",
       "      <td>Relapsed or Refractory Multiple Myeloma</td>\n",
       "      <td>Biological: CAR2 Anti-CD38 A2 CAR-T Cells</td>\n",
       "      <td>Determine the MTD|Determine the CAR2 Anti-CD38...</td>\n",
       "      <td>Sorrento Therapeutics, Inc.</td>\n",
       "      <td>...</td>\n",
       "      <td>SOR-CART-MM-001</td>\n",
       "      <td>April 5, 2018</td>\n",
       "      <td>April 2020</td>\n",
       "      <td>September 1, 2020</td>\n",
       "      <td>March 14, 2018</td>\n",
       "      <td>NaN</td>\n",
       "      <td>June 27, 2018</td>\n",
       "      <td>University of Pennsylvania, Abramson Cancer Ce...</td>\n",
       "      <td>NaN</td>\n",
       "      <td>https://ClinicalTrials.gov/show/NCT03464916</td>\n",
       "    </tr>\n",
       "    <tr>\n",
       "      <th>2</th>\n",
       "      <td>3</td>\n",
       "      <td>NCT02794246</td>\n",
       "      <td>CART-19 Post-ASCT for Multiple Myeloma</td>\n",
       "      <td>NaN</td>\n",
       "      <td>Active, not recruiting</td>\n",
       "      <td>No Results Available</td>\n",
       "      <td>Multiple Myeloma</td>\n",
       "      <td>Biological: CART-19 cells</td>\n",
       "      <td>Evaluate Progression Free Survival</td>\n",
       "      <td>University of Pennsylvania</td>\n",
       "      <td>...</td>\n",
       "      <td>UPCC 19416, 824655</td>\n",
       "      <td>June 2016</td>\n",
       "      <td>June 2019</td>\n",
       "      <td>December 2020</td>\n",
       "      <td>June 9, 2016</td>\n",
       "      <td>NaN</td>\n",
       "      <td>November 15, 2018</td>\n",
       "      <td>Abramson Cancer Center of the University of Pe...</td>\n",
       "      <td>NaN</td>\n",
       "      <td>https://ClinicalTrials.gov/show/NCT02794246</td>\n",
       "    </tr>\n",
       "    <tr>\n",
       "      <th>3</th>\n",
       "      <td>4</td>\n",
       "      <td>NCT02546167</td>\n",
       "      <td>CART-BCMA Cells for Multiple Myeloma</td>\n",
       "      <td>NaN</td>\n",
       "      <td>Active, not recruiting</td>\n",
       "      <td>No Results Available</td>\n",
       "      <td>Multiple Myeloma</td>\n",
       "      <td>Biological: CART-BCMA</td>\n",
       "      <td>Number of Adverse Events</td>\n",
       "      <td>University of Pennsylvania</td>\n",
       "      <td>...</td>\n",
       "      <td>UPCC 14415, 822756</td>\n",
       "      <td>September 2015</td>\n",
       "      <td>September 2019</td>\n",
       "      <td>September 2020</td>\n",
       "      <td>September 10, 2015</td>\n",
       "      <td>NaN</td>\n",
       "      <td>October 15, 2018</td>\n",
       "      <td>Abramson Cancer Center of the University of Pe...</td>\n",
       "      <td>NaN</td>\n",
       "      <td>https://ClinicalTrials.gov/show/NCT02546167</td>\n",
       "    </tr>\n",
       "    <tr>\n",
       "      <th>4</th>\n",
       "      <td>5</td>\n",
       "      <td>NCT03502577</td>\n",
       "      <td>BCMA-Specific CAR T-Cells Combined With a Gamm...</td>\n",
       "      <td>NaN</td>\n",
       "      <td>Recruiting</td>\n",
       "      <td>No Results Available</td>\n",
       "      <td>Recurrent Plasma Cell Myeloma|Refractory Plasm...</td>\n",
       "      <td>Biological: BCMA-specific CAR-expressing T Lym...</td>\n",
       "      <td>Maximum tolerated dose (MTD) of chimeric antig...</td>\n",
       "      <td>Fred Hutchinson Cancer Research Center|Nationa...</td>\n",
       "      <td>...</td>\n",
       "      <td>9952|NCI-2018-00514|P30CA015704</td>\n",
       "      <td>May 23, 2018</td>\n",
       "      <td>July 30, 2021</td>\n",
       "      <td>July 30, 2034</td>\n",
       "      <td>April 18, 2018</td>\n",
       "      <td>NaN</td>\n",
       "      <td>November 12, 2018</td>\n",
       "      <td>Fred Hutch/University of Washington Cancer Con...</td>\n",
       "      <td>NaN</td>\n",
       "      <td>https://ClinicalTrials.gov/show/NCT03502577</td>\n",
       "    </tr>\n",
       "  </tbody>\n",
       "</table>\n",
       "<p>5 rows × 27 columns</p>\n",
       "</div>"
      ],
      "text/plain": [
       "   Rank   NCT Number                                              Title  \\\n",
       "0     1  NCT03549442  Up-front CART-BCMA With or Without huCART19 in...   \n",
       "1     2  NCT03464916  Study to Evaluate the Safety and Efficacy of A...   \n",
       "2     3  NCT02794246             CART-19 Post-ASCT for Multiple Myeloma   \n",
       "3     4  NCT02546167               CART-BCMA Cells for Multiple Myeloma   \n",
       "4     5  NCT03502577  BCMA-Specific CAR T-Cells Combined With a Gamm...   \n",
       "\n",
       "  Acronym                  Status         Study Results  \\\n",
       "0     NaN              Recruiting  No Results Available   \n",
       "1     NaN              Recruiting  No Results Available   \n",
       "2     NaN  Active, not recruiting  No Results Available   \n",
       "3     NaN  Active, not recruiting  No Results Available   \n",
       "4     NaN              Recruiting  No Results Available   \n",
       "\n",
       "                                          Conditions  \\\n",
       "0                                   Multiple Myeloma   \n",
       "1            Relapsed or Refractory Multiple Myeloma   \n",
       "2                                   Multiple Myeloma   \n",
       "3                                   Multiple Myeloma   \n",
       "4  Recurrent Plasma Cell Myeloma|Refractory Plasm...   \n",
       "\n",
       "                                       Interventions  \\\n",
       "0  Combination Product: BCMA CART + huCART19|Comb...   \n",
       "1          Biological: CAR2 Anti-CD38 A2 CAR-T Cells   \n",
       "2                          Biological: CART-19 cells   \n",
       "3                              Biological: CART-BCMA   \n",
       "4  Biological: BCMA-specific CAR-expressing T Lym...   \n",
       "\n",
       "                                    Outcome Measures  \\\n",
       "0  Adverse event reporting|Clinical outcomes afte...   \n",
       "1  Determine the MTD|Determine the CAR2 Anti-CD38...   \n",
       "2                 Evaluate Progression Free Survival   \n",
       "3                           Number of Adverse Events   \n",
       "4  Maximum tolerated dose (MTD) of chimeric antig...   \n",
       "\n",
       "                               Sponsor/Collaborators  \\\n",
       "0                University of Pennsylvania|Novartis   \n",
       "1                        Sorrento Therapeutics, Inc.   \n",
       "2                         University of Pennsylvania   \n",
       "3                         University of Pennsylvania   \n",
       "4  Fred Hutchinson Cancer Research Center|Nationa...   \n",
       "\n",
       "                      ...                       \\\n",
       "0                     ...                        \n",
       "1                     ...                        \n",
       "2                     ...                        \n",
       "3                     ...                        \n",
       "4                     ...                        \n",
       "\n",
       "                         Other IDs      Start Date Primary Completion Date  \\\n",
       "0                           828773     May 9, 2018                May 2020   \n",
       "1                  SOR-CART-MM-001   April 5, 2018              April 2020   \n",
       "2               UPCC 19416, 824655       June 2016               June 2019   \n",
       "3               UPCC 14415, 822756  September 2015          September 2019   \n",
       "4  9952|NCI-2018-00514|P30CA015704    May 23, 2018           July 30, 2021   \n",
       "\n",
       "     Completion Date        First Posted Results First Posted  \\\n",
       "0           May 2021        June 8, 2018                  NaN   \n",
       "1  September 1, 2020      March 14, 2018                  NaN   \n",
       "2      December 2020        June 9, 2016                  NaN   \n",
       "3     September 2020  September 10, 2015                  NaN   \n",
       "4      July 30, 2034      April 18, 2018                  NaN   \n",
       "\n",
       "  Last Update Posted                                          Locations  \\\n",
       "0      June 20, 2018  Univ. of Pennsylvania, Philadelphia, Pennsylva...   \n",
       "1      June 27, 2018  University of Pennsylvania, Abramson Cancer Ce...   \n",
       "2  November 15, 2018  Abramson Cancer Center of the University of Pe...   \n",
       "3   October 15, 2018  Abramson Cancer Center of the University of Pe...   \n",
       "4  November 12, 2018  Fred Hutch/University of Washington Cancer Con...   \n",
       "\n",
       "  Study Documents                                          URL  \n",
       "0             NaN  https://ClinicalTrials.gov/show/NCT03549442  \n",
       "1             NaN  https://ClinicalTrials.gov/show/NCT03464916  \n",
       "2             NaN  https://ClinicalTrials.gov/show/NCT02794246  \n",
       "3             NaN  https://ClinicalTrials.gov/show/NCT02546167  \n",
       "4             NaN  https://ClinicalTrials.gov/show/NCT03502577  \n",
       "\n",
       "[5 rows x 27 columns]"
      ]
     },
     "execution_count": 8,
     "metadata": {},
     "output_type": "execute_result"
    }
   ],
   "source": [
    "df.head()"
   ]
  },
  {
   "cell_type": "code",
   "execution_count": null,
   "metadata": {
    "collapsed": true
   },
   "outputs": [],
   "source": [
    "df = df[['NCT Number','Title','Locations','Phases', 'Status', 'Interventions', 'Sponsor/Collaborators']]"
   ]
  },
  {
   "cell_type": "code",
   "execution_count": null,
   "metadata": {
    "collapsed": true
   },
   "outputs": [],
   "source": [
    "df.head()"
   ]
  },
  {
   "cell_type": "code",
   "execution_count": null,
   "metadata": {
    "collapsed": true
   },
   "outputs": [],
   "source": [
    "df['Interventions']"
   ]
  },
  {
   "cell_type": "code",
   "execution_count": null,
   "metadata": {
    "collapsed": true
   },
   "outputs": [],
   "source": [
    "Meds = df['Interventions'].tolist()\n",
    "Meds[:5]"
   ]
  },
  {
   "cell_type": "code",
   "execution_count": null,
   "metadata": {
    "collapsed": true
   },
   "outputs": [],
   "source": [
    "a = 'Drug: '\n",
    "b = '|'\n",
    "lst=[]\n",
    "for i in range(len(Meds)):\n",
    "    lst.append(Meds[i].split(a))\n",
    "    \n",
    "lst"
   ]
  },
  {
   "cell_type": "code",
   "execution_count": null,
   "metadata": {
    "collapsed": true
   },
   "outputs": [],
   "source": [
    "lst2=[]\n",
    "for i in range(len(lst)):\n",
    "    for j in range(len(lst[i])):\n",
    "        lst2.append(lst[i][j].split(b))\n",
    "    \n",
    "lst2"
   ]
  },
  {
   "cell_type": "code",
   "execution_count": null,
   "metadata": {
    "collapsed": true
   },
   "outputs": [],
   "source": [
    "lst3=[]\n",
    "\n",
    "for i in range(len(lst2)):\n",
    "    for j in range(len(lst2[i])):\n",
    "        lst3.append(lst2[i][j])\n",
    "\n",
    "lst3"
   ]
  },
  {
   "cell_type": "code",
   "execution_count": null,
   "metadata": {
    "collapsed": true
   },
   "outputs": [],
   "source": [
    "lst4=[]\n",
    "for i in range(len(lst3)):\n",
    "    if lst3[i] != '' and lst3[i][:5] != 'Other':\n",
    "        lst4.append(lst3[i])\n",
    "\n",
    "\n",
    "len(lst4), len(list(set(lst4)))    "
   ]
  },
  {
   "cell_type": "code",
   "execution_count": null,
   "metadata": {
    "collapsed": true
   },
   "outputs": [],
   "source": [
    "Medication = pd.DataFrame(lst4) \n",
    "Medication.columns = ['Medication']\n",
    "Medication"
   ]
  },
  {
   "cell_type": "code",
   "execution_count": null,
   "metadata": {
    "collapsed": true
   },
   "outputs": [],
   "source": [
    "import nltk"
   ]
  },
  {
   "cell_type": "code",
   "execution_count": null,
   "metadata": {
    "collapsed": true
   },
   "outputs": [],
   "source": [
    "words = []\n",
    "for i in range(len(lst4)):\n",
    "    temp = nltk.tokenize.word_tokenize(lst4[i])\n",
    "    words.append(temp)\n",
    "    \n"
   ]
  },
  {
   "cell_type": "code",
   "execution_count": null,
   "metadata": {
    "collapsed": true
   },
   "outputs": [],
   "source": [
    "word_lst = []\n",
    "for i in range(len(words)):\n",
    "    for j in range(len(words[i])):\n",
    "        word_lst.append(words[i][j])"
   ]
  },
  {
   "cell_type": "code",
   "execution_count": null,
   "metadata": {
    "collapsed": true
   },
   "outputs": [],
   "source": [
    "word_lst"
   ]
  },
  {
   "cell_type": "code",
   "execution_count": null,
   "metadata": {
    "collapsed": true
   },
   "outputs": [],
   "source": [
    "fdist1 = nltk.FreqDist(word_lst)"
   ]
  },
  {
   "cell_type": "code",
   "execution_count": null,
   "metadata": {
    "collapsed": true
   },
   "outputs": [],
   "source": [
    "fdist1.plot()"
   ]
  },
  {
   "cell_type": "code",
   "execution_count": null,
   "metadata": {
    "collapsed": true
   },
   "outputs": [],
   "source": [
    "word_lst2 = []\n",
    "for i in range(len(words)):\n",
    "    for j in range(len(words[i])):\n",
    "\n",
    "        word_lst2.append(str(words[i][j]))\n",
    "    \n",
    "word_lst2"
   ]
  },
  {
   "cell_type": "code",
   "execution_count": null,
   "metadata": {
    "collapsed": true
   },
   "outputs": [],
   "source": [
    "word_lst2 = ''.join(word_lst2)"
   ]
  },
  {
   "cell_type": "code",
   "execution_count": null,
   "metadata": {
    "collapsed": true
   },
   "outputs": [],
   "source": [
    "from wordcloud import WordCloud\n",
    "\n",
    "wordcloud = WordCloud(max_font_size=60).generate(word_lst2)"
   ]
  },
  {
   "cell_type": "code",
   "execution_count": null,
   "metadata": {
    "collapsed": true
   },
   "outputs": [],
   "source": [
    "import matplotlib.pyplot as plt\n",
    "plt.figure(figsize=(18, 14))\n",
    "plt.imshow(wordcloud, interpolation='bilinear')\n",
    "plt.axis(\"off\")"
   ]
  },
  {
   "cell_type": "code",
   "execution_count": null,
   "metadata": {
    "collapsed": true
   },
   "outputs": [],
   "source": []
  }
 ],
 "metadata": {
  "kernelspec": {
   "display_name": "Python 2",
   "language": "python",
   "name": "python2"
  },
  "language_info": {
   "codemirror_mode": {
    "name": "ipython",
    "version": 2
   },
   "file_extension": ".py",
   "mimetype": "text/x-python",
   "name": "python",
   "nbconvert_exporter": "python",
   "pygments_lexer": "ipython2",
   "version": "2.7.12"
  }
 },
 "nbformat": 4,
 "nbformat_minor": 2
}
