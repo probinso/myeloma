{
 "cells": [
  {
   "cell_type": "code",
   "execution_count": 1,
   "metadata": {},
   "outputs": [],
   "source": [
    "import pandas as pd\n",
    "import numpy as np\n",
    "import urllib2\n",
    "import webbrowser\n",
    "import os\n",
    "import bs4,  re\n",
    "from bs4 import BeautifulSoup\n",
    "import requests\n",
    "import math\n",
    "import nltk\n",
    "from nltk.tokenize import word_tokenize\n",
    "import matplotlib.pyplot as plt\n",
    "%matplotlib inline\n",
    "from datetime import datetime\n",
    "\n"
   ]
  },
  {
   "cell_type": "markdown",
   "metadata": {},
   "source": [
    "### The cell below opens (and converts to a dataframe) a csv file containing a URL that, when opened, will automatically download a csv file tuned to the prescribed search.  For example, the first search performed looked (1) myeloma, (2) USA, (3) Recruiting AND Non yet recruiting AND Active, but no longer recruiting, (4) Car-T.  The URL syntax can be found at ClinicalTrials.gov site.\n",
    "\n",
    "\n"
   ]
  },
  {
   "cell_type": "code",
   "execution_count": 2,
   "metadata": {},
   "outputs": [
    {
     "name": "stderr",
     "output_type": "stream",
     "text": [
      "/home/probinso/git/myeloma/timdrop/venv/lib/python2.7/site-packages/IPython/core/interactiveshell.py:2714: DtypeWarning: Columns (12) have mixed types. Specify dtype option on import or set low_memory=False.\n",
      "  interactivity=interactivity, compiler=compiler, result=result)\n"
     ]
    }
   ],
   "source": [
    "# df = pd.read_csv('D:\\Python_Database\\Myeloma\\MM Trials\\keyword_search.csv')\n",
    "df1 = pd.read_csv('./uscities.csv')"
   ]
  },
  {
   "cell_type": "code",
   "execution_count": 3,
   "metadata": {},
   "outputs": [],
   "source": [
    "# df.head()"
   ]
  },
  {
   "cell_type": "markdown",
   "metadata": {},
   "source": [
    "### The cells below open the url stored in the dataframe, and then moves the csv file from download to the desired file location\n"
   ]
  },
  {
   "cell_type": "code",
   "execution_count": 53,
   "metadata": {
    "collapsed": true
   },
   "outputs": [],
   "source": [
    "# chrome_path = 'C:/Program Files (x86)/Google/Chrome/Application/chrome.exe %s'\n",
    "# url = df['Search URL'].tolist()\n",
    "# webbrowser.get(using=chrome_path).open(url[0])"
   ]
  },
  {
   "cell_type": "code",
   "execution_count": 54,
   "metadata": {
    "collapsed": true
   },
   "outputs": [],
   "source": [
    "# os.rename(\"C:/Users/robin/Downloads/SearchResults.csv\", \"D:/Python_Database/Myeloma/MM Trials/Results.csv\")"
   ]
  },
  {
   "cell_type": "code",
   "execution_count": 5,
   "metadata": {},
   "outputs": [],
   "source": [
    "df = pd.read_csv('./CART_Results.csv')\n",
    "df_ = df"
   ]
  },
  {
   "cell_type": "code",
   "execution_count": 6,
   "metadata": {},
   "outputs": [
    {
     "data": {
      "text/plain": [
       "23"
      ]
     },
     "execution_count": 6,
     "metadata": {},
     "output_type": "execute_result"
    }
   ],
   "source": [
    "len(df_)"
   ]
  },
  {
   "cell_type": "code",
   "execution_count": 7,
   "metadata": {},
   "outputs": [
    {
     "data": {
      "text/plain": [
       "12"
      ]
     },
     "execution_count": 7,
     "metadata": {},
     "output_type": "execute_result"
    }
   ],
   "source": [
    "285/23"
   ]
  },
  {
   "cell_type": "code",
   "execution_count": 8,
   "metadata": {},
   "outputs": [],
   "source": [
    "df = df[['NCT Number','Title','Locations','Phases', 'Status', 'Interventions', 'Last Update Posted','Sponsor/Collaborators']]"
   ]
  },
  {
   "cell_type": "code",
   "execution_count": 9,
   "metadata": {},
   "outputs": [],
   "source": [
    "color = ['#0000ff','#0e0dff','#1716ff','#1e1dff','#2323ff','#2828ff','#2c2dff','#2f32ff','#3336ff','#353aff',\n",
    "         '#383eff','#3b42ff','#3d46ff','#3f49ff','#414dff','#4351ff','#4554ff','#4757ff','#485bff','#4a5eff',\n",
    "         '#4b61ff','#4d65ff','#4e68ff','#4f6bff','#506eff','#5172ff','#5275ff','#5378ff','#547bff','#547eff',\n",
    "         '#5581ff','#5684ff','#5687ff','#568bff','#578eff','#5791ff','#5794ff','#5897ff','#589aff','#589dff',\n",
    "         '#58a0ff','#58a3ff','#57a6ff','#57a9ff','#57acff','#56afff','#56b2ff','#55b5ff','#55b8ff','#54bbff',\n",
    "         '#53bfff','#52c2ff','#51c5ff','#50c8ff','#4ecbff','#4dceff','#4bd1ff','#4ad4ff','#48d7ff','#46daff',\n",
    "         '#44ddff','#41e0ff','#3ee3ff','#3be6ff','#38e9ff','#34ecff','#30f0ff','#2bf3ff','#25f6ff','#1df9ff',\n",
    "         '#13fcff','#00ffff','#08fdfb','#0efbf8','#13f9f4','#17f7f1','#1af6ed','#1df4ea','#1ff2e6','#22f0e3',\n",
    "         '#23eedf','#25ecdc','#27ead8','#28e8d5','#29e6d1','#2ae5ce','#2be3ca','#2ce1c7','#2ddfc4','#2eddc0',\n",
    "         '#2fdbbd','#2fdab9','#30d8b6','#30d6b3','#30d4af','#31d2ac','#31d0a8','#31cfa5','#31cda2','#31cb9e',\n",
    "         '#31c99b','#31c798','#31c594','#31c491','#31c28e','#31c08a','#31be87','#30bc84','#30bb81','#30b97d',\n",
    "         '#2fb77a','#2fb577','#2eb473','#2eb270','#2db06d','#2dae6a','#2cac66','#2bab63','#2ba960','#2aa75d',\n",
    "         '#29a559','#28a456','#27a253','#26a04f','#259f4c','#249d49','#239b45','#229942','#20983f','#1f963b',\n",
    "         '#1e9438','#1c9334','#1a9131','#198f2d','#178d2a','#158c26','#138a22','#10881d','#0e8719','#0a8514',\n",
    "         '#07830e','#038207','#008000','#0c8200','#158400','#1c8500','#228700','#278900','#2c8b00','#308c00',\n",
    "         '#358e00','#399000','#3d9200','#419300','#449500','#489700','#4b9900','#4f9a00','#529c00','#569e00',\n",
    "         '#59a000','#5da100','#60a300','#63a500','#66a700','#6aa900','#6daa00','#70ac00','#73ae00','#76b000',\n",
    "         '#79b100','#7db300','#80b500','#83b700','#86b900','#89ba00','#8cbc00','#8fbe00','#92c000','#95c200',\n",
    "         '#99c300','#9cc500','#9fc700','#a2c900','#a5ca00','#a8cc00','#abce00','#aed000','#b1d200','#b4d300',\n",
    "         '#b7d500','#bad700','#bed900','#c1db00','#c4dc00','#c7de00','#cae000','#cde200','#d0e400','#d3e600',\n",
    "         '#d6e700','#d9e900','#ddeb00','#e0ed00','#e3ef00','#e6f000','#e9f200','#ecf400','#eff600','#f2f800',\n",
    "         '#f6fa00','#f9fb00','#fcfd00','#ffff00','#fffc00','#fffa00','#fff700','#fff500','#fff200','#fff000',\n",
    "         '#ffed00','#ffeb00','#ffe800','#ffe500','#ffe300','#ffe000','#ffde00','#ffdb00','#ffd800','#ffd600',\n",
    "         '#ffd300','#ffd100','#ffce00','#ffcb00','#ffc900','#ffc600','#ffc300','#ffc100','#ffbe00','#ffbb00',\n",
    "         '#ffb900','#ffb600','#ffb300','#ffb100','#ffae00','#ffab00','#ffa800','#ffa600','#ffa300','#ffa000',\n",
    "         '#ff9d00','#ff9a00','#ff9800','#ff9500','#ff9200','#ff8f00','#ff8c00','#ff8900','#ff8600','#ff8300',\n",
    "         '#ff8000','#ff7d00','#ff7a00','#ff7600','#ff7300','#ff7000','#ff6c00','#ff6900','#ff6500','#ff6200',\n",
    "         '#ff5e00','#ff5a00','#ff5700','#ff5200','#ff4e00','#ff4a00','#ff4500','#ff4000','#ff3b00','#ff3500',\n",
    "         '#ff2f00','#ff2800','#ff1f00','#ff1400','#ff0000']"
   ]
  },
  {
   "cell_type": "code",
   "execution_count": 10,
   "metadata": {},
   "outputs": [
    {
     "data": {
      "text/plain": [
       "24"
      ]
     },
     "execution_count": 10,
     "metadata": {},
     "output_type": "execute_result"
    }
   ],
   "source": [
    "color = color[::12]\n",
    "len(color)"
   ]
  },
  {
   "cell_type": "code",
   "execution_count": 11,
   "metadata": {},
   "outputs": [
    {
     "data": {
      "text/html": [
       "<div>\n",
       "<style scoped>\n",
       "    .dataframe tbody tr th:only-of-type {\n",
       "        vertical-align: middle;\n",
       "    }\n",
       "\n",
       "    .dataframe tbody tr th {\n",
       "        vertical-align: top;\n",
       "    }\n",
       "\n",
       "    .dataframe thead th {\n",
       "        text-align: right;\n",
       "    }\n",
       "</style>\n",
       "<table border=\"1\" class=\"dataframe\">\n",
       "  <thead>\n",
       "    <tr style=\"text-align: right;\">\n",
       "      <th></th>\n",
       "      <th>Color</th>\n",
       "    </tr>\n",
       "  </thead>\n",
       "  <tbody>\n",
       "    <tr>\n",
       "      <th>0</th>\n",
       "      <td>#0000ff</td>\n",
       "    </tr>\n",
       "    <tr>\n",
       "      <th>1</th>\n",
       "      <td>#3d46ff</td>\n",
       "    </tr>\n",
       "    <tr>\n",
       "      <th>2</th>\n",
       "      <td>#506eff</td>\n",
       "    </tr>\n",
       "    <tr>\n",
       "      <th>3</th>\n",
       "      <td>#5794ff</td>\n",
       "    </tr>\n",
       "    <tr>\n",
       "      <th>4</th>\n",
       "      <td>#55b8ff</td>\n",
       "    </tr>\n",
       "  </tbody>\n",
       "</table>\n",
       "</div>"
      ],
      "text/plain": [
       "     Color\n",
       "0  #0000ff\n",
       "1  #3d46ff\n",
       "2  #506eff\n",
       "3  #5794ff\n",
       "4  #55b8ff"
      ]
     },
     "execution_count": 11,
     "metadata": {},
     "output_type": "execute_result"
    }
   ],
   "source": [
    "mask = df['Status'].str.contains('Recruiting', case=True)\n",
    "\n",
    "colors = color[:len(df['NCT Number'])]\n",
    "colors = pd.DataFrame(colors)               \n",
    "colors.columns = ['Color']\n",
    "colors.head()"
   ]
  },
  {
   "cell_type": "code",
   "execution_count": 12,
   "metadata": {},
   "outputs": [],
   "source": [
    "df = pd.concat([df, colors], axis=1)\n"
   ]
  },
  {
   "cell_type": "code",
   "execution_count": 13,
   "metadata": {},
   "outputs": [
    {
     "data": {
      "text/html": [
       "<div>\n",
       "<style scoped>\n",
       "    .dataframe tbody tr th:only-of-type {\n",
       "        vertical-align: middle;\n",
       "    }\n",
       "\n",
       "    .dataframe tbody tr th {\n",
       "        vertical-align: top;\n",
       "    }\n",
       "\n",
       "    .dataframe thead th {\n",
       "        text-align: right;\n",
       "    }\n",
       "</style>\n",
       "<table border=\"1\" class=\"dataframe\">\n",
       "  <thead>\n",
       "    <tr style=\"text-align: right;\">\n",
       "      <th></th>\n",
       "      <th>NCT Number</th>\n",
       "      <th>Title</th>\n",
       "      <th>Status</th>\n",
       "    </tr>\n",
       "  </thead>\n",
       "  <tbody>\n",
       "    <tr>\n",
       "      <th>22</th>\n",
       "      <td>NCT02529813</td>\n",
       "      <td>CD19+ CAR T Cells for Lymphoid Malignancies</td>\n",
       "      <td>Recruiting</td>\n",
       "    </tr>\n",
       "    <tr>\n",
       "      <th>21</th>\n",
       "      <td>NCT02658929</td>\n",
       "      <td>Study of bb2121 in Multiple Myeloma</td>\n",
       "      <td>Recruiting</td>\n",
       "    </tr>\n",
       "    <tr>\n",
       "      <th>20</th>\n",
       "      <td>NCT03430011</td>\n",
       "      <td>Study Evaluating the Safety and Efficacy of JCARH125 in Subjects With Relapsed and/or Refractory Multiple Myeloma</td>\n",
       "      <td>Recruiting</td>\n",
       "    </tr>\n",
       "    <tr>\n",
       "      <th>19</th>\n",
       "      <td>NCT03361748</td>\n",
       "      <td>Efficacy and Safety Study of bb2121 in Subjects With Relapsed and Refractory Multiple Myeloma (KarMMa)</td>\n",
       "      <td>Recruiting</td>\n",
       "    </tr>\n",
       "    <tr>\n",
       "      <th>18</th>\n",
       "      <td>NCT03274219</td>\n",
       "      <td>Study of bb21217 in Multiple Myeloma</td>\n",
       "      <td>Recruiting</td>\n",
       "    </tr>\n",
       "    <tr>\n",
       "      <th>17</th>\n",
       "      <td>NCT02203825</td>\n",
       "      <td>Safety Study of Chimeric Antigen Receptor Modified T-cells Targeting NKG2D-Ligands</td>\n",
       "      <td>Completed</td>\n",
       "    </tr>\n",
       "    <tr>\n",
       "      <th>16</th>\n",
       "      <td>NCT03318861</td>\n",
       "      <td>A Study Evaluating the Safety and Efficacy of KITE-585 in Subjects With Relapsed/Refractory Multiple Myeloma</td>\n",
       "      <td>Recruiting</td>\n",
       "    </tr>\n",
       "    <tr>\n",
       "      <th>15</th>\n",
       "      <td>NCT03651128</td>\n",
       "      <td>Efficacy and Safety Study of bb2121 Versus Standard Triplet Regimens in Subjects With Relapsed and Refractory Multiple Myeloma (RRMM)</td>\n",
       "      <td>Not yet recruiting</td>\n",
       "    </tr>\n",
       "    <tr>\n",
       "      <th>14</th>\n",
       "      <td>NCT02215967</td>\n",
       "      <td>Study of T Cells Targeting B-Cell Maturation Antigen for Previously Treated Multiple Myeloma</td>\n",
       "      <td>Active, not recruiting</td>\n",
       "    </tr>\n",
       "    <tr>\n",
       "      <th>13</th>\n",
       "      <td>NCT03288493</td>\n",
       "      <td>P-BCMA-101 Tscm CAR-T Cells in the Treatment of Patients With Multiple Myeloma (MM)</td>\n",
       "      <td>Recruiting</td>\n",
       "    </tr>\n",
       "    <tr>\n",
       "      <th>12</th>\n",
       "      <td>NCT03602612</td>\n",
       "      <td>T Cells Expressing a Novel Fully-Human Anti-BCMA CAR for Treating Multiple Myeloma</td>\n",
       "      <td>Recruiting</td>\n",
       "    </tr>\n",
       "    <tr>\n",
       "      <th>11</th>\n",
       "      <td>NCT03448978</td>\n",
       "      <td>Autologous CD8+ T-cells Expressing an Anti-BCMA CAR in Patients With Myeloma</td>\n",
       "      <td>Recruiting</td>\n",
       "    </tr>\n",
       "    <tr>\n",
       "      <th>10</th>\n",
       "      <td>NCT03672318</td>\n",
       "      <td>Study of ATLCAR.CD138 Cells for Relapsed/Refractory Multiple Myeloma</td>\n",
       "      <td>Recruiting</td>\n",
       "    </tr>\n",
       "    <tr>\n",
       "      <th>9</th>\n",
       "      <td>NCT03548207</td>\n",
       "      <td>A Study of JNJ-68284528, a Chimeric Antigen Receptor T Cell (CAR-T) Therapy Directed Against B-Cell Maturation Antigen (BCMA) in Participants With Relapsed or Refractory Multiple Myeloma</td>\n",
       "      <td>Recruiting</td>\n",
       "    </tr>\n",
       "    <tr>\n",
       "      <th>8</th>\n",
       "      <td>NCT03338972</td>\n",
       "      <td>Immunotherapy With BCMA CAR-T Cells in Treating Patients With BCMA Positive Relapsed or Refractory Multiple Myeloma</td>\n",
       "      <td>Recruiting</td>\n",
       "    </tr>\n",
       "    <tr>\n",
       "      <th>7</th>\n",
       "      <td>NCT03710421</td>\n",
       "      <td>CS1-CAR T Therapy Following Chemotherapy in Treating Patients With Relapsed or Refractory Multiple Myeloma</td>\n",
       "      <td>Not yet recruiting</td>\n",
       "    </tr>\n",
       "    <tr>\n",
       "      <th>6</th>\n",
       "      <td>NCT02135406</td>\n",
       "      <td>CART-19 for Multiple Myeloma</td>\n",
       "      <td>Completed</td>\n",
       "    </tr>\n",
       "    <tr>\n",
       "      <th>5</th>\n",
       "      <td>NCT03070327</td>\n",
       "      <td>BCMA Targeted CAR T Cells With or Without Lenalidomide for the Treatment of Multiple Myeloma</td>\n",
       "      <td>Recruiting</td>\n",
       "    </tr>\n",
       "    <tr>\n",
       "      <th>4</th>\n",
       "      <td>NCT03502577</td>\n",
       "      <td>BCMA-Specific CAR T-Cells Combined With a Gamma Secretase Inhibitor (LY3039478) to Treat Relapsed or Persistent Multiple Myeloma</td>\n",
       "      <td>Recruiting</td>\n",
       "    </tr>\n",
       "    <tr>\n",
       "      <th>3</th>\n",
       "      <td>NCT02546167</td>\n",
       "      <td>CART-BCMA Cells for Multiple Myeloma</td>\n",
       "      <td>Active, not recruiting</td>\n",
       "    </tr>\n",
       "    <tr>\n",
       "      <th>2</th>\n",
       "      <td>NCT02794246</td>\n",
       "      <td>CART-19 Post-ASCT for Multiple Myeloma</td>\n",
       "      <td>Active, not recruiting</td>\n",
       "    </tr>\n",
       "    <tr>\n",
       "      <th>1</th>\n",
       "      <td>NCT03464916</td>\n",
       "      <td>Study to Evaluate the Safety and Efficacy of Anti-CD38 CAR-T in Relapsed or Refractory Multiple Myeloma Patients</td>\n",
       "      <td>Recruiting</td>\n",
       "    </tr>\n",
       "    <tr>\n",
       "      <th>0</th>\n",
       "      <td>NCT03549442</td>\n",
       "      <td>Up-front CART-BCMA With or Without huCART19 in High-risk Multiple Myeloma</td>\n",
       "      <td>Recruiting</td>\n",
       "    </tr>\n",
       "  </tbody>\n",
       "</table>\n",
       "</div>"
      ],
      "text/plain": [
       "     NCT Number  \\\n",
       "22  NCT02529813   \n",
       "21  NCT02658929   \n",
       "20  NCT03430011   \n",
       "19  NCT03361748   \n",
       "18  NCT03274219   \n",
       "17  NCT02203825   \n",
       "16  NCT03318861   \n",
       "15  NCT03651128   \n",
       "14  NCT02215967   \n",
       "13  NCT03288493   \n",
       "12  NCT03602612   \n",
       "11  NCT03448978   \n",
       "10  NCT03672318   \n",
       "9   NCT03548207   \n",
       "8   NCT03338972   \n",
       "7   NCT03710421   \n",
       "6   NCT02135406   \n",
       "5   NCT03070327   \n",
       "4   NCT03502577   \n",
       "3   NCT02546167   \n",
       "2   NCT02794246   \n",
       "1   NCT03464916   \n",
       "0   NCT03549442   \n",
       "\n",
       "                                                                                                                                                                                         Title  \\\n",
       "22                                                                                                                                                 CD19+ CAR T Cells for Lymphoid Malignancies   \n",
       "21                                                                                                                                                         Study of bb2121 in Multiple Myeloma   \n",
       "20                                                                           Study Evaluating the Safety and Efficacy of JCARH125 in Subjects With Relapsed and/or Refractory Multiple Myeloma   \n",
       "19                                                                                      Efficacy and Safety Study of bb2121 in Subjects With Relapsed and Refractory Multiple Myeloma (KarMMa)   \n",
       "18                                                                                                                                                        Study of bb21217 in Multiple Myeloma   \n",
       "17                                                                                                          Safety Study of Chimeric Antigen Receptor Modified T-cells Targeting NKG2D-Ligands   \n",
       "16                                                                                A Study Evaluating the Safety and Efficacy of KITE-585 in Subjects With Relapsed/Refractory Multiple Myeloma   \n",
       "15                                                       Efficacy and Safety Study of bb2121 Versus Standard Triplet Regimens in Subjects With Relapsed and Refractory Multiple Myeloma (RRMM)   \n",
       "14                                                                                                Study of T Cells Targeting B-Cell Maturation Antigen for Previously Treated Multiple Myeloma   \n",
       "13                                                                                                         P-BCMA-101 Tscm CAR-T Cells in the Treatment of Patients With Multiple Myeloma (MM)   \n",
       "12                                                                                                          T Cells Expressing a Novel Fully-Human Anti-BCMA CAR for Treating Multiple Myeloma   \n",
       "11                                                                                                                Autologous CD8+ T-cells Expressing an Anti-BCMA CAR in Patients With Myeloma   \n",
       "10                                                                                                                        Study of ATLCAR.CD138 Cells for Relapsed/Refractory Multiple Myeloma   \n",
       "9   A Study of JNJ-68284528, a Chimeric Antigen Receptor T Cell (CAR-T) Therapy Directed Against B-Cell Maturation Antigen (BCMA) in Participants With Relapsed or Refractory Multiple Myeloma   \n",
       "8                                                                          Immunotherapy With BCMA CAR-T Cells in Treating Patients With BCMA Positive Relapsed or Refractory Multiple Myeloma   \n",
       "7                                                                                   CS1-CAR T Therapy Following Chemotherapy in Treating Patients With Relapsed or Refractory Multiple Myeloma   \n",
       "6                                                                                                                                                                 CART-19 for Multiple Myeloma   \n",
       "5                                                                                                 BCMA Targeted CAR T Cells With or Without Lenalidomide for the Treatment of Multiple Myeloma   \n",
       "4                                                             BCMA-Specific CAR T-Cells Combined With a Gamma Secretase Inhibitor (LY3039478) to Treat Relapsed or Persistent Multiple Myeloma   \n",
       "3                                                                                                                                                         CART-BCMA Cells for Multiple Myeloma   \n",
       "2                                                                                                                                                       CART-19 Post-ASCT for Multiple Myeloma   \n",
       "1                                                                             Study to Evaluate the Safety and Efficacy of Anti-CD38 CAR-T in Relapsed or Refractory Multiple Myeloma Patients   \n",
       "0                                                                                                                    Up-front CART-BCMA With or Without huCART19 in High-risk Multiple Myeloma   \n",
       "\n",
       "                    Status  \n",
       "22              Recruiting  \n",
       "21              Recruiting  \n",
       "20              Recruiting  \n",
       "19              Recruiting  \n",
       "18              Recruiting  \n",
       "17               Completed  \n",
       "16              Recruiting  \n",
       "15      Not yet recruiting  \n",
       "14  Active, not recruiting  \n",
       "13              Recruiting  \n",
       "12              Recruiting  \n",
       "11              Recruiting  \n",
       "10              Recruiting  \n",
       "9               Recruiting  \n",
       "8               Recruiting  \n",
       "7       Not yet recruiting  \n",
       "6                Completed  \n",
       "5               Recruiting  \n",
       "4               Recruiting  \n",
       "3   Active, not recruiting  \n",
       "2   Active, not recruiting  \n",
       "1               Recruiting  \n",
       "0               Recruiting  "
      ]
     },
     "execution_count": 13,
     "metadata": {},
     "output_type": "execute_result"
    }
   ],
   "source": [
    "pd.set_option('max_colwidth', 800)\n",
    "temp = df.reindex(index=df.index[::-1])\n",
    "temp[['NCT Number','Title', 'Status']]"
   ]
  },
  {
   "cell_type": "code",
   "execution_count": 14,
   "metadata": {},
   "outputs": [],
   "source": [
    "test_data = df['Locations'].tolist()"
   ]
  },
  {
   "cell_type": "code",
   "execution_count": 15,
   "metadata": {},
   "outputs": [],
   "source": [
    "city, state, city_state = [], [], []\n",
    "\n",
    "for i in range(len(df1['city'])):\n",
    "    city.append(df1['city'][i])\n",
    "    state.append(df1['state_name'][i])\n",
    "    city_state.append(city[i] + ', ' + state[i])\n"
   ]
  },
  {
   "cell_type": "code",
   "execution_count": 16,
   "metadata": {},
   "outputs": [],
   "source": [
    "results = []\n",
    "\n",
    "for i in range(len(test_data)):\n",
    "    for j in range(len(city_state)):\n",
    "        if str(test_data[i]).find(city_state[j]) >=0:\n",
    "            results.append(city_state[j])\n"
   ]
  },
  {
   "cell_type": "code",
   "execution_count": 17,
   "metadata": {},
   "outputs": [],
   "source": [
    "temp = []\n",
    "temp1 = []\n",
    "\n",
    "for i in range(len(test_data)):\n",
    "    for j in range(len(city_state)):\n",
    "        if str(test_data[i]).find(city_state[j]) >= 0:\n",
    "\n",
    "            temp1.append(city_state[j])\n",
    "    temp.append(temp1)\n",
    "    temp1=[]\n",
    "           "
   ]
  },
  {
   "cell_type": "code",
   "execution_count": 18,
   "metadata": {},
   "outputs": [],
   "source": [
    "location_of_study=[]\n",
    "for i in range(len(temp)):\n",
    "    names = set(temp[i])\n",
    "    names = list(names)\n",
    "    location_of_study.append(names)"
   ]
  },
  {
   "cell_type": "code",
   "execution_count": 19,
   "metadata": {},
   "outputs": [],
   "source": [
    "num=[]\n",
    "for i in range(len(location_of_study)):\n",
    "    num.append(len(location_of_study[i]))\n",
    "    "
   ]
  },
  {
   "cell_type": "code",
   "execution_count": 20,
   "metadata": {},
   "outputs": [],
   "source": [
    "ind, pos = [], []\n",
    "\n",
    "for i in range(len(num)):\n",
    "    if num[i] > 1:\n",
    "        ind.append(num[i])\n",
    "        pos.append(i)"
   ]
  },
  {
   "cell_type": "code",
   "execution_count": 21,
   "metadata": {},
   "outputs": [],
   "source": [
    "df = df.reset_index(drop=True)\n",
    "index = df.index.tolist()\n",
    "\n",
    "temp = [x*1000 for x in index]\n",
    "\n",
    "df = df.set_index([temp])"
   ]
  },
  {
   "cell_type": "code",
   "execution_count": 22,
   "metadata": {},
   "outputs": [],
   "source": [
    "for i in range(len(pos)):\n",
    "    k=0\n",
    "    while k < ind[i]:\n",
    "        df.loc[(pos[i]*1000)+k] = df.loc[pos[i]*1000]\n",
    "        k=k+1"
   ]
  },
  {
   "cell_type": "code",
   "execution_count": 23,
   "metadata": {},
   "outputs": [],
   "source": [
    "df = df.sort_index()"
   ]
  },
  {
   "cell_type": "code",
   "execution_count": 24,
   "metadata": {},
   "outputs": [],
   "source": [
    "new_column = []\n",
    "for i in range(len(location_of_study)):\n",
    "    for j in range(len(location_of_study[i])):\n",
    "        new_column.append(location_of_study[i][j])\n",
    "               \n",
    "City_State = pd.DataFrame(new_column, columns=['City, State'])"
   ]
  },
  {
   "cell_type": "code",
   "execution_count": 25,
   "metadata": {},
   "outputs": [
    {
     "data": {
      "text/html": [
       "<div>\n",
       "<style scoped>\n",
       "    .dataframe tbody tr th:only-of-type {\n",
       "        vertical-align: middle;\n",
       "    }\n",
       "\n",
       "    .dataframe tbody tr th {\n",
       "        vertical-align: top;\n",
       "    }\n",
       "\n",
       "    .dataframe thead th {\n",
       "        text-align: right;\n",
       "    }\n",
       "</style>\n",
       "<table border=\"1\" class=\"dataframe\">\n",
       "  <thead>\n",
       "    <tr style=\"text-align: right;\">\n",
       "      <th></th>\n",
       "      <th>NCT Number</th>\n",
       "      <th>Title</th>\n",
       "      <th>Locations</th>\n",
       "      <th>Phases</th>\n",
       "      <th>Status</th>\n",
       "      <th>Interventions</th>\n",
       "      <th>Last Update Posted</th>\n",
       "      <th>Sponsor/Collaborators</th>\n",
       "      <th>Color</th>\n",
       "      <th>City, State</th>\n",
       "    </tr>\n",
       "  </thead>\n",
       "  <tbody>\n",
       "    <tr>\n",
       "      <th>0</th>\n",
       "      <td>NCT03549442</td>\n",
       "      <td>Up-front CART-BCMA With or Without huCART19 in High-risk Multiple Myeloma</td>\n",
       "      <td>Univ. of Pennsylvania, Philadelphia, Pennsylvania, United States</td>\n",
       "      <td>Phase 1</td>\n",
       "      <td>Recruiting</td>\n",
       "      <td>Combination Product: BCMA CART + huCART19|Combination Product: CART BCMA or CART BCMA + huCART19|Combination Product: Single-dose infusion of CART BCMA or CART BCMA + huCART19</td>\n",
       "      <td>20-Jun-18</td>\n",
       "      <td>University of Pennsylvania|Novartis</td>\n",
       "      <td>#0000ff</td>\n",
       "      <td>Philadelphia, Pennsylvania</td>\n",
       "    </tr>\n",
       "    <tr>\n",
       "      <th>1</th>\n",
       "      <td>NCT03464916</td>\n",
       "      <td>Study to Evaluate the Safety and Efficacy of Anti-CD38 CAR-T in Relapsed or Refractory Multiple Myeloma Patients</td>\n",
       "      <td>University of Pennsylvania, Abramson Cancer Center, Philadelphia, Pennsylvania, United States|Roger Williams Medical Center, Providence, Rhode Island, United States</td>\n",
       "      <td>Phase 1</td>\n",
       "      <td>Recruiting</td>\n",
       "      <td>Biological: CAR2 Anti-CD38 A2 CAR-T Cells</td>\n",
       "      <td>27-Jun-18</td>\n",
       "      <td>Sorrento Therapeutics, Inc.</td>\n",
       "      <td>#3d46ff</td>\n",
       "      <td>Providence, Rhode Island</td>\n",
       "    </tr>\n",
       "    <tr>\n",
       "      <th>2</th>\n",
       "      <td>NCT03464916</td>\n",
       "      <td>Study to Evaluate the Safety and Efficacy of Anti-CD38 CAR-T in Relapsed or Refractory Multiple Myeloma Patients</td>\n",
       "      <td>University of Pennsylvania, Abramson Cancer Center, Philadelphia, Pennsylvania, United States|Roger Williams Medical Center, Providence, Rhode Island, United States</td>\n",
       "      <td>Phase 1</td>\n",
       "      <td>Recruiting</td>\n",
       "      <td>Biological: CAR2 Anti-CD38 A2 CAR-T Cells</td>\n",
       "      <td>27-Jun-18</td>\n",
       "      <td>Sorrento Therapeutics, Inc.</td>\n",
       "      <td>#3d46ff</td>\n",
       "      <td>Philadelphia, Pennsylvania</td>\n",
       "    </tr>\n",
       "    <tr>\n",
       "      <th>3</th>\n",
       "      <td>NCT02794246</td>\n",
       "      <td>CART-19 Post-ASCT for Multiple Myeloma</td>\n",
       "      <td>Abramson Cancer Center of the University of Pennsylvania, Philadelphia, Pennsylvania, United States</td>\n",
       "      <td>Phase 2</td>\n",
       "      <td>Active, not recruiting</td>\n",
       "      <td>Biological: CART-19 cells</td>\n",
       "      <td>9-Nov-17</td>\n",
       "      <td>University of Pennsylvania</td>\n",
       "      <td>#506eff</td>\n",
       "      <td>Philadelphia, Pennsylvania</td>\n",
       "    </tr>\n",
       "    <tr>\n",
       "      <th>4</th>\n",
       "      <td>NCT02546167</td>\n",
       "      <td>CART-BCMA Cells for Multiple Myeloma</td>\n",
       "      <td>Abramson Cancer Center of the University of Pennsylvania, Philadelphia, Pennsylvania, United States</td>\n",
       "      <td>Phase 1</td>\n",
       "      <td>Active, not recruiting</td>\n",
       "      <td>Biological: CART-BCMA</td>\n",
       "      <td>15-Oct-18</td>\n",
       "      <td>University of Pennsylvania</td>\n",
       "      <td>#5794ff</td>\n",
       "      <td>Philadelphia, Pennsylvania</td>\n",
       "    </tr>\n",
       "  </tbody>\n",
       "</table>\n",
       "</div>"
      ],
      "text/plain": [
       "    NCT Number  \\\n",
       "0  NCT03549442   \n",
       "1  NCT03464916   \n",
       "2  NCT03464916   \n",
       "3  NCT02794246   \n",
       "4  NCT02546167   \n",
       "\n",
       "                                                                                                              Title  \\\n",
       "0                                         Up-front CART-BCMA With or Without huCART19 in High-risk Multiple Myeloma   \n",
       "1  Study to Evaluate the Safety and Efficacy of Anti-CD38 CAR-T in Relapsed or Refractory Multiple Myeloma Patients   \n",
       "2  Study to Evaluate the Safety and Efficacy of Anti-CD38 CAR-T in Relapsed or Refractory Multiple Myeloma Patients   \n",
       "3                                                                            CART-19 Post-ASCT for Multiple Myeloma   \n",
       "4                                                                              CART-BCMA Cells for Multiple Myeloma   \n",
       "\n",
       "                                                                                                                                                              Locations  \\\n",
       "0                                                                                                      Univ. of Pennsylvania, Philadelphia, Pennsylvania, United States   \n",
       "1  University of Pennsylvania, Abramson Cancer Center, Philadelphia, Pennsylvania, United States|Roger Williams Medical Center, Providence, Rhode Island, United States   \n",
       "2  University of Pennsylvania, Abramson Cancer Center, Philadelphia, Pennsylvania, United States|Roger Williams Medical Center, Providence, Rhode Island, United States   \n",
       "3                                                                   Abramson Cancer Center of the University of Pennsylvania, Philadelphia, Pennsylvania, United States   \n",
       "4                                                                   Abramson Cancer Center of the University of Pennsylvania, Philadelphia, Pennsylvania, United States   \n",
       "\n",
       "    Phases                  Status  \\\n",
       "0  Phase 1              Recruiting   \n",
       "1  Phase 1              Recruiting   \n",
       "2  Phase 1              Recruiting   \n",
       "3  Phase 2  Active, not recruiting   \n",
       "4  Phase 1  Active, not recruiting   \n",
       "\n",
       "                                                                                                                                                                     Interventions  \\\n",
       "0  Combination Product: BCMA CART + huCART19|Combination Product: CART BCMA or CART BCMA + huCART19|Combination Product: Single-dose infusion of CART BCMA or CART BCMA + huCART19   \n",
       "1                                                                                                                                        Biological: CAR2 Anti-CD38 A2 CAR-T Cells   \n",
       "2                                                                                                                                        Biological: CAR2 Anti-CD38 A2 CAR-T Cells   \n",
       "3                                                                                                                                                        Biological: CART-19 cells   \n",
       "4                                                                                                                                                            Biological: CART-BCMA   \n",
       "\n",
       "  Last Update Posted                Sponsor/Collaborators    Color  \\\n",
       "0          20-Jun-18  University of Pennsylvania|Novartis  #0000ff   \n",
       "1          27-Jun-18          Sorrento Therapeutics, Inc.  #3d46ff   \n",
       "2          27-Jun-18          Sorrento Therapeutics, Inc.  #3d46ff   \n",
       "3           9-Nov-17           University of Pennsylvania  #506eff   \n",
       "4          15-Oct-18           University of Pennsylvania  #5794ff   \n",
       "\n",
       "                  City, State  \n",
       "0  Philadelphia, Pennsylvania  \n",
       "1    Providence, Rhode Island  \n",
       "2  Philadelphia, Pennsylvania  \n",
       "3  Philadelphia, Pennsylvania  \n",
       "4  Philadelphia, Pennsylvania  "
      ]
     },
     "execution_count": 25,
     "metadata": {},
     "output_type": "execute_result"
    }
   ],
   "source": [
    "df_new = pd.concat([df.reset_index(drop=True), City_State], axis=1)\n",
    "df_new.head()"
   ]
  },
  {
   "cell_type": "code",
   "execution_count": 26,
   "metadata": {},
   "outputs": [],
   "source": [
    "cit = df1['city'].tolist()\n",
    "state = df1['state_name'].tolist()\n",
    "\n",
    "loc_db = []\n",
    "\n",
    "for i in range(len(cit)):\n",
    "    loc_db.append(cit[i] + ', ' + state[i])"
   ]
  },
  {
   "cell_type": "code",
   "execution_count": 27,
   "metadata": {},
   "outputs": [],
   "source": [
    "lat_e, lng_e = [],[] \n",
    "\n",
    "citystate = df_new['City, State'].tolist()\n",
    "\n",
    "for i in range(len(citystate)):\n",
    "    for j in range(len(loc_db)):\n",
    "        if citystate[i] == loc_db[j]:\n",
    "            lng_e.append(df1['lng'][j])\n",
    "            lat_e.append(df1['lat'][j])\n",
    "            "
   ]
  },
  {
   "cell_type": "code",
   "execution_count": 28,
   "metadata": {},
   "outputs": [],
   "source": [
    "lyo = df_new['Last Update Posted'].tolist()\n",
    "\n",
    "lyo = [2000 + int(x[-2:]) for x in lyo]"
   ]
  },
  {
   "cell_type": "code",
   "execution_count": 29,
   "metadata": {},
   "outputs": [],
   "source": [
    "LYO = pd.DataFrame(lyo, columns=['Year'])\n",
    "Lat = pd.DataFrame(lat_e, columns=['Lat'])\n",
    "Lng = pd.DataFrame(lng_e, columns=['Lng'])"
   ]
  },
  {
   "cell_type": "code",
   "execution_count": 30,
   "metadata": {},
   "outputs": [],
   "source": [
    "Lat = Lat.reset_index(drop=True)\n",
    "Lng = Lng.reset_index(drop=True)\n",
    "LYO = LYO.reset_index(drop=True)\n"
   ]
  },
  {
   "cell_type": "code",
   "execution_count": 31,
   "metadata": {},
   "outputs": [
    {
     "data": {
      "text/html": [
       "<div>\n",
       "<style scoped>\n",
       "    .dataframe tbody tr th:only-of-type {\n",
       "        vertical-align: middle;\n",
       "    }\n",
       "\n",
       "    .dataframe tbody tr th {\n",
       "        vertical-align: top;\n",
       "    }\n",
       "\n",
       "    .dataframe thead th {\n",
       "        text-align: right;\n",
       "    }\n",
       "</style>\n",
       "<table border=\"1\" class=\"dataframe\">\n",
       "  <thead>\n",
       "    <tr style=\"text-align: right;\">\n",
       "      <th></th>\n",
       "      <th>NCT Number</th>\n",
       "      <th>Title</th>\n",
       "      <th>Locations</th>\n",
       "      <th>Phases</th>\n",
       "      <th>Status</th>\n",
       "      <th>Interventions</th>\n",
       "      <th>Last Update Posted</th>\n",
       "      <th>Sponsor/Collaborators</th>\n",
       "      <th>Color</th>\n",
       "      <th>City, State</th>\n",
       "      <th>Lat</th>\n",
       "      <th>Lng</th>\n",
       "      <th>Year</th>\n",
       "    </tr>\n",
       "  </thead>\n",
       "  <tbody>\n",
       "    <tr>\n",
       "      <th>0</th>\n",
       "      <td>NCT03549442</td>\n",
       "      <td>Up-front CART-BCMA With or Without huCART19 in High-risk Multiple Myeloma</td>\n",
       "      <td>Univ. of Pennsylvania, Philadelphia, Pennsylvania, United States</td>\n",
       "      <td>Phase 1</td>\n",
       "      <td>Recruiting</td>\n",
       "      <td>Combination Product: BCMA CART + huCART19|Combination Product: CART BCMA or CART BCMA + huCART19|Combination Product: Single-dose infusion of CART BCMA or CART BCMA + huCART19</td>\n",
       "      <td>20-Jun-18</td>\n",
       "      <td>University of Pennsylvania|Novartis</td>\n",
       "      <td>#0000ff</td>\n",
       "      <td>Philadelphia, Pennsylvania</td>\n",
       "      <td>40.0076</td>\n",
       "      <td>-75.1340</td>\n",
       "      <td>2018</td>\n",
       "    </tr>\n",
       "    <tr>\n",
       "      <th>1</th>\n",
       "      <td>NCT03464916</td>\n",
       "      <td>Study to Evaluate the Safety and Efficacy of Anti-CD38 CAR-T in Relapsed or Refractory Multiple Myeloma Patients</td>\n",
       "      <td>University of Pennsylvania, Abramson Cancer Center, Philadelphia, Pennsylvania, United States|Roger Williams Medical Center, Providence, Rhode Island, United States</td>\n",
       "      <td>Phase 1</td>\n",
       "      <td>Recruiting</td>\n",
       "      <td>Biological: CAR2 Anti-CD38 A2 CAR-T Cells</td>\n",
       "      <td>27-Jun-18</td>\n",
       "      <td>Sorrento Therapeutics, Inc.</td>\n",
       "      <td>#3d46ff</td>\n",
       "      <td>Providence, Rhode Island</td>\n",
       "      <td>41.8229</td>\n",
       "      <td>-71.4186</td>\n",
       "      <td>2018</td>\n",
       "    </tr>\n",
       "    <tr>\n",
       "      <th>2</th>\n",
       "      <td>NCT03464916</td>\n",
       "      <td>Study to Evaluate the Safety and Efficacy of Anti-CD38 CAR-T in Relapsed or Refractory Multiple Myeloma Patients</td>\n",
       "      <td>University of Pennsylvania, Abramson Cancer Center, Philadelphia, Pennsylvania, United States|Roger Williams Medical Center, Providence, Rhode Island, United States</td>\n",
       "      <td>Phase 1</td>\n",
       "      <td>Recruiting</td>\n",
       "      <td>Biological: CAR2 Anti-CD38 A2 CAR-T Cells</td>\n",
       "      <td>27-Jun-18</td>\n",
       "      <td>Sorrento Therapeutics, Inc.</td>\n",
       "      <td>#3d46ff</td>\n",
       "      <td>Philadelphia, Pennsylvania</td>\n",
       "      <td>40.0076</td>\n",
       "      <td>-75.1340</td>\n",
       "      <td>2018</td>\n",
       "    </tr>\n",
       "    <tr>\n",
       "      <th>3</th>\n",
       "      <td>NCT02794246</td>\n",
       "      <td>CART-19 Post-ASCT for Multiple Myeloma</td>\n",
       "      <td>Abramson Cancer Center of the University of Pennsylvania, Philadelphia, Pennsylvania, United States</td>\n",
       "      <td>Phase 2</td>\n",
       "      <td>Active, not recruiting</td>\n",
       "      <td>Biological: CART-19 cells</td>\n",
       "      <td>9-Nov-17</td>\n",
       "      <td>University of Pennsylvania</td>\n",
       "      <td>#506eff</td>\n",
       "      <td>Philadelphia, Pennsylvania</td>\n",
       "      <td>40.0076</td>\n",
       "      <td>-75.1340</td>\n",
       "      <td>2017</td>\n",
       "    </tr>\n",
       "    <tr>\n",
       "      <th>4</th>\n",
       "      <td>NCT02546167</td>\n",
       "      <td>CART-BCMA Cells for Multiple Myeloma</td>\n",
       "      <td>Abramson Cancer Center of the University of Pennsylvania, Philadelphia, Pennsylvania, United States</td>\n",
       "      <td>Phase 1</td>\n",
       "      <td>Active, not recruiting</td>\n",
       "      <td>Biological: CART-BCMA</td>\n",
       "      <td>15-Oct-18</td>\n",
       "      <td>University of Pennsylvania</td>\n",
       "      <td>#5794ff</td>\n",
       "      <td>Philadelphia, Pennsylvania</td>\n",
       "      <td>40.0076</td>\n",
       "      <td>-75.1340</td>\n",
       "      <td>2018</td>\n",
       "    </tr>\n",
       "  </tbody>\n",
       "</table>\n",
       "</div>"
      ],
      "text/plain": [
       "    NCT Number  \\\n",
       "0  NCT03549442   \n",
       "1  NCT03464916   \n",
       "2  NCT03464916   \n",
       "3  NCT02794246   \n",
       "4  NCT02546167   \n",
       "\n",
       "                                                                                                              Title  \\\n",
       "0                                         Up-front CART-BCMA With or Without huCART19 in High-risk Multiple Myeloma   \n",
       "1  Study to Evaluate the Safety and Efficacy of Anti-CD38 CAR-T in Relapsed or Refractory Multiple Myeloma Patients   \n",
       "2  Study to Evaluate the Safety and Efficacy of Anti-CD38 CAR-T in Relapsed or Refractory Multiple Myeloma Patients   \n",
       "3                                                                            CART-19 Post-ASCT for Multiple Myeloma   \n",
       "4                                                                              CART-BCMA Cells for Multiple Myeloma   \n",
       "\n",
       "                                                                                                                                                              Locations  \\\n",
       "0                                                                                                      Univ. of Pennsylvania, Philadelphia, Pennsylvania, United States   \n",
       "1  University of Pennsylvania, Abramson Cancer Center, Philadelphia, Pennsylvania, United States|Roger Williams Medical Center, Providence, Rhode Island, United States   \n",
       "2  University of Pennsylvania, Abramson Cancer Center, Philadelphia, Pennsylvania, United States|Roger Williams Medical Center, Providence, Rhode Island, United States   \n",
       "3                                                                   Abramson Cancer Center of the University of Pennsylvania, Philadelphia, Pennsylvania, United States   \n",
       "4                                                                   Abramson Cancer Center of the University of Pennsylvania, Philadelphia, Pennsylvania, United States   \n",
       "\n",
       "    Phases                  Status  \\\n",
       "0  Phase 1              Recruiting   \n",
       "1  Phase 1              Recruiting   \n",
       "2  Phase 1              Recruiting   \n",
       "3  Phase 2  Active, not recruiting   \n",
       "4  Phase 1  Active, not recruiting   \n",
       "\n",
       "                                                                                                                                                                     Interventions  \\\n",
       "0  Combination Product: BCMA CART + huCART19|Combination Product: CART BCMA or CART BCMA + huCART19|Combination Product: Single-dose infusion of CART BCMA or CART BCMA + huCART19   \n",
       "1                                                                                                                                        Biological: CAR2 Anti-CD38 A2 CAR-T Cells   \n",
       "2                                                                                                                                        Biological: CAR2 Anti-CD38 A2 CAR-T Cells   \n",
       "3                                                                                                                                                        Biological: CART-19 cells   \n",
       "4                                                                                                                                                            Biological: CART-BCMA   \n",
       "\n",
       "  Last Update Posted                Sponsor/Collaborators    Color  \\\n",
       "0          20-Jun-18  University of Pennsylvania|Novartis  #0000ff   \n",
       "1          27-Jun-18          Sorrento Therapeutics, Inc.  #3d46ff   \n",
       "2          27-Jun-18          Sorrento Therapeutics, Inc.  #3d46ff   \n",
       "3           9-Nov-17           University of Pennsylvania  #506eff   \n",
       "4          15-Oct-18           University of Pennsylvania  #5794ff   \n",
       "\n",
       "                  City, State      Lat      Lng  Year  \n",
       "0  Philadelphia, Pennsylvania  40.0076 -75.1340  2018  \n",
       "1    Providence, Rhode Island  41.8229 -71.4186  2018  \n",
       "2  Philadelphia, Pennsylvania  40.0076 -75.1340  2018  \n",
       "3  Philadelphia, Pennsylvania  40.0076 -75.1340  2017  \n",
       "4  Philadelphia, Pennsylvania  40.0076 -75.1340  2018  "
      ]
     },
     "execution_count": 31,
     "metadata": {},
     "output_type": "execute_result"
    }
   ],
   "source": [
    "df_new = pd.concat([df_new, Lat, Lng, LYO], axis=1)\n",
    "\n",
    "df_new.head()"
   ]
  },
  {
   "cell_type": "code",
   "execution_count": 32,
   "metadata": {},
   "outputs": [
    {
     "data": {
      "text/plain": [
       "['Recruiting', 'Active, not recruiting', 'Completed', 'Not yet recruiting']"
      ]
     },
     "execution_count": 32,
     "metadata": {},
     "output_type": "execute_result"
    }
   ],
   "source": [
    "df_new['Status'].unique().tolist()"
   ]
  },
  {
   "cell_type": "code",
   "execution_count": 33,
   "metadata": {},
   "outputs": [
    {
     "data": {
      "text/html": [
       "<div>\n",
       "<style scoped>\n",
       "    .dataframe tbody tr th:only-of-type {\n",
       "        vertical-align: middle;\n",
       "    }\n",
       "\n",
       "    .dataframe tbody tr th {\n",
       "        vertical-align: top;\n",
       "    }\n",
       "\n",
       "    .dataframe thead th {\n",
       "        text-align: right;\n",
       "    }\n",
       "</style>\n",
       "<table border=\"1\" class=\"dataframe\">\n",
       "  <thead>\n",
       "    <tr style=\"text-align: right;\">\n",
       "      <th></th>\n",
       "      <th>NCT Number</th>\n",
       "      <th>Title</th>\n",
       "      <th>Locations</th>\n",
       "      <th>Phases</th>\n",
       "      <th>Status</th>\n",
       "      <th>Interventions</th>\n",
       "      <th>Last Update Posted</th>\n",
       "      <th>Sponsor/Collaborators</th>\n",
       "      <th>Color</th>\n",
       "      <th>City, State</th>\n",
       "      <th>Lat</th>\n",
       "      <th>Lng</th>\n",
       "      <th>Year</th>\n",
       "    </tr>\n",
       "  </thead>\n",
       "  <tbody>\n",
       "    <tr>\n",
       "      <th>0</th>\n",
       "      <td>NCT03549442</td>\n",
       "      <td>Up-front CART-BCMA With or Without huCART19 in High-risk Multiple Myeloma</td>\n",
       "      <td>Univ. of Pennsylvania, Philadelphia, Pennsylvania, United States</td>\n",
       "      <td>Phase 1</td>\n",
       "      <td>Recruiting</td>\n",
       "      <td>Combination Product: BCMA CART + huCART19|Combination Product: CART BCMA or CART BCMA + huCART19|Combination Product: Single-dose infusion of CART BCMA or CART BCMA + huCART19</td>\n",
       "      <td>20-Jun-18</td>\n",
       "      <td>University of Pennsylvania|Novartis</td>\n",
       "      <td>#0000ff</td>\n",
       "      <td>Philadelphia, Pennsylvania</td>\n",
       "      <td>40.0076</td>\n",
       "      <td>-75.134</td>\n",
       "      <td>2018</td>\n",
       "    </tr>\n",
       "  </tbody>\n",
       "</table>\n",
       "</div>"
      ],
      "text/plain": [
       "    NCT Number  \\\n",
       "0  NCT03549442   \n",
       "\n",
       "                                                                       Title  \\\n",
       "0  Up-front CART-BCMA With or Without huCART19 in High-risk Multiple Myeloma   \n",
       "\n",
       "                                                          Locations   Phases  \\\n",
       "0  Univ. of Pennsylvania, Philadelphia, Pennsylvania, United States  Phase 1   \n",
       "\n",
       "       Status  \\\n",
       "0  Recruiting   \n",
       "\n",
       "                                                                                                                                                                     Interventions  \\\n",
       "0  Combination Product: BCMA CART + huCART19|Combination Product: CART BCMA or CART BCMA + huCART19|Combination Product: Single-dose infusion of CART BCMA or CART BCMA + huCART19   \n",
       "\n",
       "  Last Update Posted                Sponsor/Collaborators    Color  \\\n",
       "0          20-Jun-18  University of Pennsylvania|Novartis  #0000ff   \n",
       "\n",
       "                  City, State      Lat     Lng  Year  \n",
       "0  Philadelphia, Pennsylvania  40.0076 -75.134  2018  "
      ]
     },
     "execution_count": 33,
     "metadata": {},
     "output_type": "execute_result"
    }
   ],
   "source": [
    "df_new.head(1)"
   ]
  },
  {
   "cell_type": "code",
   "execution_count": 34,
   "metadata": {},
   "outputs": [
    {
     "data": {
      "text/plain": [
       "'NCT03464916'"
      ]
     },
     "execution_count": 34,
     "metadata": {},
     "output_type": "execute_result"
    }
   ],
   "source": [
    "NCT_no = df_new['NCT Number'].unique().tolist()\n",
    "NCT_no[1]"
   ]
  },
  {
   "cell_type": "code",
   "execution_count": 35,
   "metadata": {},
   "outputs": [
    {
     "data": {
      "text/html": [
       "<div>\n",
       "<style scoped>\n",
       "    .dataframe tbody tr th:only-of-type {\n",
       "        vertical-align: middle;\n",
       "    }\n",
       "\n",
       "    .dataframe tbody tr th {\n",
       "        vertical-align: top;\n",
       "    }\n",
       "\n",
       "    .dataframe thead th {\n",
       "        text-align: right;\n",
       "    }\n",
       "</style>\n",
       "<table border=\"1\" class=\"dataframe\">\n",
       "  <thead>\n",
       "    <tr style=\"text-align: right;\">\n",
       "      <th></th>\n",
       "      <th>NCT Number</th>\n",
       "      <th>Title</th>\n",
       "      <th>City, State</th>\n",
       "      <th>Lat</th>\n",
       "      <th>Lng</th>\n",
       "      <th>Color</th>\n",
       "    </tr>\n",
       "  </thead>\n",
       "  <tbody>\n",
       "    <tr>\n",
       "      <th>0</th>\n",
       "      <td>NCT03464916</td>\n",
       "      <td>Study to Evaluate the Safety and Efficacy of Anti-CD38 CAR-T in Relapsed or Refractory Multiple Myeloma Patients</td>\n",
       "      <td>Providence, Rhode Island</td>\n",
       "      <td>41.8229</td>\n",
       "      <td>-71.4186</td>\n",
       "      <td>#3d46ff</td>\n",
       "    </tr>\n",
       "    <tr>\n",
       "      <th>1</th>\n",
       "      <td>NCT03464916</td>\n",
       "      <td>Study to Evaluate the Safety and Efficacy of Anti-CD38 CAR-T in Relapsed or Refractory Multiple Myeloma Patients</td>\n",
       "      <td>Philadelphia, Pennsylvania</td>\n",
       "      <td>40.0076</td>\n",
       "      <td>-75.1340</td>\n",
       "      <td>#3d46ff</td>\n",
       "    </tr>\n",
       "  </tbody>\n",
       "</table>\n",
       "</div>"
      ],
      "text/plain": [
       "    NCT Number  \\\n",
       "0  NCT03464916   \n",
       "1  NCT03464916   \n",
       "\n",
       "                                                                                                              Title  \\\n",
       "0  Study to Evaluate the Safety and Efficacy of Anti-CD38 CAR-T in Relapsed or Refractory Multiple Myeloma Patients   \n",
       "1  Study to Evaluate the Safety and Efficacy of Anti-CD38 CAR-T in Relapsed or Refractory Multiple Myeloma Patients   \n",
       "\n",
       "                  City, State      Lat      Lng    Color  \n",
       "0    Providence, Rhode Island  41.8229 -71.4186  #3d46ff  \n",
       "1  Philadelphia, Pennsylvania  40.0076 -75.1340  #3d46ff  "
      ]
     },
     "execution_count": 35,
     "metadata": {},
     "output_type": "execute_result"
    }
   ],
   "source": [
    "df_new_ = df_new[['NCT Number','Title', 'City, State', 'Lat', 'Lng', 'Color']]\n",
    "\n",
    "mask2 = []    \n",
    "for i in range(len(NCT_no)):\n",
    "    mask2.append(df_new_.mask(df_new_['NCT Number'] != NCT_no[i]).dropna(axis=0, inplace=False).reset_index(drop=True))\n",
    "\n",
    "mask2[1]"
   ]
  },
  {
   "cell_type": "code",
   "execution_count": 36,
   "metadata": {},
   "outputs": [],
   "source": [
    "city_state = df_new['City, State'].unique().tolist()"
   ]
  },
  {
   "cell_type": "code",
   "execution_count": 37,
   "metadata": {},
   "outputs": [
    {
     "data": {
      "text/plain": [
       "6"
      ]
     },
     "execution_count": 37,
     "metadata": {},
     "output_type": "execute_result"
    }
   ],
   "source": [
    "mask3 = []    \n",
    "for i in range(len(city_state)):\n",
    "    mask3.append(df_new_.mask(df_new_['City, State'] != city_state[i]).dropna(axis=0, inplace=False).reset_index(drop=True))\n",
    "\n",
    "len(mask3[0])"
   ]
  },
  {
   "cell_type": "code",
   "execution_count": 38,
   "metadata": {},
   "outputs": [
    {
     "data": {
      "text/plain": [
       "NCT Number                                                                   NCT03549442\n",
       "Title          Up-front CART-BCMA With or Without huCART19 in High-risk Multiple Myeloma\n",
       "City, State                                                   Philadelphia, Pennsylvania\n",
       "Lat                                                                              40.0076\n",
       "Lng                                                                              -75.134\n",
       "Color                                                                            #0000ff\n",
       "Name: 0, dtype: object"
      ]
     },
     "execution_count": 38,
     "metadata": {},
     "output_type": "execute_result"
    }
   ],
   "source": [
    "city_site = []\n",
    "\n",
    "for i in range(len(mask3)):\n",
    "    city_site.append(mask3[i].iloc[0])\n",
    "    \n",
    "city_site[0]    "
   ]
  },
  {
   "cell_type": "code",
   "execution_count": 39,
   "metadata": {},
   "outputs": [
    {
     "name": "stderr",
     "output_type": "stream",
     "text": [
      "/home/probinso/git/myeloma/timdrop/venv/lib/python2.7/site-packages/ipykernel_launcher.py:4: SettingWithCopyWarning: \n",
      "A value is trying to be set on a copy of a slice from a DataFrame\n",
      "\n",
      "See the caveats in the documentation: http://pandas.pydata.org/pandas-docs/stable/indexing.html#indexing-view-versus-copy\n",
      "  after removing the cwd from sys.path.\n",
      "/home/probinso/git/myeloma/timdrop/venv/lib/python2.7/site-packages/ipykernel_launcher.py:5: SettingWithCopyWarning: \n",
      "A value is trying to be set on a copy of a slice from a DataFrame\n",
      "\n",
      "See the caveats in the documentation: http://pandas.pydata.org/pandas-docs/stable/indexing.html#indexing-view-versus-copy\n",
      "  \"\"\"\n",
      "/home/probinso/git/myeloma/timdrop/venv/lib/python2.7/site-packages/ipykernel_launcher.py:7: SettingWithCopyWarning: \n",
      "A value is trying to be set on a copy of a slice from a DataFrame\n",
      "\n",
      "See the caveats in the documentation: http://pandas.pydata.org/pandas-docs/stable/indexing.html#indexing-view-versus-copy\n",
      "  import sys\n",
      "/home/probinso/git/myeloma/timdrop/venv/lib/python2.7/site-packages/ipykernel_launcher.py:8: SettingWithCopyWarning: \n",
      "A value is trying to be set on a copy of a slice from a DataFrame\n",
      "\n",
      "See the caveats in the documentation: http://pandas.pydata.org/pandas-docs/stable/indexing.html#indexing-view-versus-copy\n",
      "  \n"
     ]
    }
   ],
   "source": [
    "for i in range(len(mask3)):\n",
    "    for j in range(len(mask3[i])):\n",
    "        if len(mask3[i]) > 1:\n",
    "            mask3[i]['Lat'][j]  = mask3[i]['Lat'][j] + 1* math.cos(j*math.pi/((7+1)/2.))\n",
    "            mask3[i]['Lng'][j]  = mask3[i]['Lng'][j] + 1* math.sin(j*math.pi/((7+1)/2.))\n",
    "        else:\n",
    "            mask3[i]['Lat'][j] = mask3[i]['Lat'][j]\n",
    "            mask3[i]['Lng'][j] = mask3[i]['Lng'][j]"
   ]
  },
  {
   "cell_type": "code",
   "execution_count": 40,
   "metadata": {},
   "outputs": [
    {
     "data": {
      "text/html": [
       "<div>\n",
       "<style scoped>\n",
       "    .dataframe tbody tr th:only-of-type {\n",
       "        vertical-align: middle;\n",
       "    }\n",
       "\n",
       "    .dataframe tbody tr th {\n",
       "        vertical-align: top;\n",
       "    }\n",
       "\n",
       "    .dataframe thead th {\n",
       "        text-align: right;\n",
       "    }\n",
       "</style>\n",
       "<table border=\"1\" class=\"dataframe\">\n",
       "  <thead>\n",
       "    <tr style=\"text-align: right;\">\n",
       "      <th></th>\n",
       "      <th>NCT Number</th>\n",
       "      <th>Title</th>\n",
       "      <th>City, State</th>\n",
       "      <th>Lat</th>\n",
       "      <th>Lng</th>\n",
       "      <th>Color</th>\n",
       "    </tr>\n",
       "  </thead>\n",
       "  <tbody>\n",
       "    <tr>\n",
       "      <th>0</th>\n",
       "      <td>NCT03549442</td>\n",
       "      <td>Up-front CART-BCMA With or Without huCART19 in High-risk Multiple Myeloma</td>\n",
       "      <td>Philadelphia, Pennsylvania</td>\n",
       "      <td>41.007600</td>\n",
       "      <td>-75.134000</td>\n",
       "      <td>#0000ff</td>\n",
       "    </tr>\n",
       "    <tr>\n",
       "      <th>1</th>\n",
       "      <td>NCT03464916</td>\n",
       "      <td>Study to Evaluate the Safety and Efficacy of Anti-CD38 CAR-T in Relapsed or Refractory Multiple Myeloma Patients</td>\n",
       "      <td>Philadelphia, Pennsylvania</td>\n",
       "      <td>40.714707</td>\n",
       "      <td>-74.426893</td>\n",
       "      <td>#3d46ff</td>\n",
       "    </tr>\n",
       "    <tr>\n",
       "      <th>2</th>\n",
       "      <td>NCT02794246</td>\n",
       "      <td>CART-19 Post-ASCT for Multiple Myeloma</td>\n",
       "      <td>Philadelphia, Pennsylvania</td>\n",
       "      <td>40.007600</td>\n",
       "      <td>-74.134000</td>\n",
       "      <td>#506eff</td>\n",
       "    </tr>\n",
       "    <tr>\n",
       "      <th>3</th>\n",
       "      <td>NCT02546167</td>\n",
       "      <td>CART-BCMA Cells for Multiple Myeloma</td>\n",
       "      <td>Philadelphia, Pennsylvania</td>\n",
       "      <td>39.300493</td>\n",
       "      <td>-74.426893</td>\n",
       "      <td>#5794ff</td>\n",
       "    </tr>\n",
       "    <tr>\n",
       "      <th>4</th>\n",
       "      <td>NCT02135406</td>\n",
       "      <td>CART-19 for Multiple Myeloma</td>\n",
       "      <td>Philadelphia, Pennsylvania</td>\n",
       "      <td>39.007600</td>\n",
       "      <td>-75.134000</td>\n",
       "      <td>#08fdfb</td>\n",
       "    </tr>\n",
       "    <tr>\n",
       "      <th>5</th>\n",
       "      <td>NCT03288493</td>\n",
       "      <td>P-BCMA-101 Tscm CAR-T Cells in the Treatment of Patients With Multiple Myeloma (MM)</td>\n",
       "      <td>Philadelphia, Pennsylvania</td>\n",
       "      <td>39.300493</td>\n",
       "      <td>-75.841107</td>\n",
       "      <td>#4b9900</td>\n",
       "    </tr>\n",
       "  </tbody>\n",
       "</table>\n",
       "</div>"
      ],
      "text/plain": [
       "    NCT Number  \\\n",
       "0  NCT03549442   \n",
       "1  NCT03464916   \n",
       "2  NCT02794246   \n",
       "3  NCT02546167   \n",
       "4  NCT02135406   \n",
       "5  NCT03288493   \n",
       "\n",
       "                                                                                                              Title  \\\n",
       "0                                         Up-front CART-BCMA With or Without huCART19 in High-risk Multiple Myeloma   \n",
       "1  Study to Evaluate the Safety and Efficacy of Anti-CD38 CAR-T in Relapsed or Refractory Multiple Myeloma Patients   \n",
       "2                                                                            CART-19 Post-ASCT for Multiple Myeloma   \n",
       "3                                                                              CART-BCMA Cells for Multiple Myeloma   \n",
       "4                                                                                      CART-19 for Multiple Myeloma   \n",
       "5                               P-BCMA-101 Tscm CAR-T Cells in the Treatment of Patients With Multiple Myeloma (MM)   \n",
       "\n",
       "                  City, State        Lat        Lng    Color  \n",
       "0  Philadelphia, Pennsylvania  41.007600 -75.134000  #0000ff  \n",
       "1  Philadelphia, Pennsylvania  40.714707 -74.426893  #3d46ff  \n",
       "2  Philadelphia, Pennsylvania  40.007600 -74.134000  #506eff  \n",
       "3  Philadelphia, Pennsylvania  39.300493 -74.426893  #5794ff  \n",
       "4  Philadelphia, Pennsylvania  39.007600 -75.134000  #08fdfb  \n",
       "5  Philadelphia, Pennsylvania  39.300493 -75.841107  #4b9900  "
      ]
     },
     "execution_count": 40,
     "metadata": {},
     "output_type": "execute_result"
    }
   ],
   "source": [
    "mask3[0]"
   ]
  },
  {
   "cell_type": "code",
   "execution_count": 41,
   "metadata": {},
   "outputs": [
    {
     "ename": "ImportError",
     "evalue": "No module named cartopy.crs",
     "output_type": "error",
     "traceback": [
      "\u001b[0;31m---------------------------------------------------------------------------\u001b[0m",
      "\u001b[0;31mImportError\u001b[0m                               Traceback (most recent call last)",
      "\u001b[0;32m<ipython-input-41-5726178e423e>\u001b[0m in \u001b[0;36m<module>\u001b[0;34m()\u001b[0m\n\u001b[0;32m----> 1\u001b[0;31m \u001b[0;32mimport\u001b[0m \u001b[0mcartopy\u001b[0m\u001b[0;34m.\u001b[0m\u001b[0mcrs\u001b[0m \u001b[0;32mas\u001b[0m \u001b[0mccrs\u001b[0m\u001b[0;34m\u001b[0m\u001b[0m\n\u001b[0m\u001b[1;32m      2\u001b[0m \u001b[0;32mimport\u001b[0m \u001b[0mcartopy\u001b[0m\u001b[0;34m.\u001b[0m\u001b[0mfeature\u001b[0m \u001b[0;32mas\u001b[0m \u001b[0mcfeature\u001b[0m\u001b[0;34m\u001b[0m\u001b[0m\n\u001b[1;32m      3\u001b[0m \u001b[0;34m\u001b[0m\u001b[0m\n\u001b[1;32m      4\u001b[0m \u001b[0mplt\u001b[0m\u001b[0;34m.\u001b[0m\u001b[0mfigure\u001b[0m\u001b[0;34m(\u001b[0m\u001b[0mfigsize\u001b[0m\u001b[0;34m=\u001b[0m\u001b[0;34m(\u001b[0m\u001b[0;36m18\u001b[0m\u001b[0;34m,\u001b[0m\u001b[0;36m16\u001b[0m\u001b[0;34m)\u001b[0m\u001b[0;34m)\u001b[0m\u001b[0;34m\u001b[0m\u001b[0m\n\u001b[1;32m      5\u001b[0m \u001b[0;34m\u001b[0m\u001b[0m\n",
      "\u001b[0;31mImportError\u001b[0m: No module named cartopy.crs"
     ]
    }
   ],
   "source": [
    "import cartopy.crs as ccrs\n",
    "import cartopy.feature as cfeature\n",
    "\n",
    "plt.figure(figsize=(18,16))\n",
    "\n",
    "states_provinces = cfeature.NaturalEarthFeature(\n",
    "    category='cultural',\n",
    "    name='admin_1_states_provinces_lines',\n",
    "    scale='50m',\n",
    "    facecolor='none')\n",
    "\n",
    "ax = plt.axes(projection=ccrs.PlateCarree())\n",
    "ax.set_extent([-125, -66.5, 20, 50], ccrs.Geodetic())\n",
    "ax.coastlines()\n",
    "ax.add_feature(cfeature.BORDERS)\n",
    "ax.add_feature(states_provinces, edgecolor='gray')\n",
    "ax.background_patch.set_visible(False)\n",
    "ax.outline_patch.set_visible(False)\n",
    "\n",
    "\n",
    "for i in range(len(mask3)):\n",
    "    for j in range(len(mask3[i])):\n",
    "        plt.plot([city_site[i]['Lng'],mask3[i].iloc[j]['Lng']], [city_site[i]['Lat'], mask3[i].iloc[j]['Lat']], c='k', alpha=.3 )\n",
    "        plt.scatter(city_site[i]['Lng'], city_site[i]['Lat'], c='orange', alpha=0.2)\n",
    "        plt.scatter(mask3[i].iloc[j]['Lng'], mask3[i].iloc[j]['Lat'], c=mask3[i].iloc[j]['Color'], alpha=1)\n",
    "\n",
    "plt.savefig('MM Trials_CART.png', format='png', dpi=600, transparent=True)\n",
    "plt.show()"
   ]
  },
  {
   "cell_type": "code",
   "execution_count": 94,
   "metadata": {},
   "outputs": [
    {
     "data": {
      "text/plain": [
       "'NCT03464916'"
      ]
     },
     "execution_count": 94,
     "metadata": {},
     "output_type": "execute_result"
    }
   ],
   "source": [
    "mask2[1].iloc[0]['NCT Number']"
   ]
  },
  {
   "cell_type": "code",
   "execution_count": 95,
   "metadata": {
    "collapsed": true
   },
   "outputs": [],
   "source": [
    "city_lng, city_lat, city_name = [],[],[]\n",
    "for i in range(len(city_site)):\n",
    "    city_lng.append(city_site[i]['Lng'].tolist())\n",
    "    city_lat.append(city_site[i]['Lat'].tolist())\n",
    "    city_name.append(city_site[i]['City, State'])\n",
    "    \n",
    "jit_lng, jit_lat, jit_trial_no, jit_trial_name = [],[],[],[]\n",
    "for i in range(len(mask3)):\n",
    "    for j in range(len(mask3[i])):\n",
    "        jit_lng.append(mask3[i].iloc[j]['Lng'])\n",
    "        jit_lat.append(mask3[i].iloc[j]['Lat'])\n",
    "        jit_trial_no.append(mask3[i].iloc[j]['NCT Number'])\n",
    "        jit_trial_name.append(mask3[i].iloc[j]['Title'])\n",
    "\n"
   ]
  },
  {
   "cell_type": "code",
   "execution_count": 96,
   "metadata": {
    "collapsed": true
   },
   "outputs": [],
   "source": [
    "import folium"
   ]
  },
  {
   "cell_type": "code",
   "execution_count": 97,
   "metadata": {
    "collapsed": true
   },
   "outputs": [],
   "source": [
    "colors = []\n",
    "for i in range(len(mask3)):\n",
    "    for j in range(len(mask3[i])):\n",
    "        colors.append(mask3[i].iloc[j]['Color'])"
   ]
  },
  {
   "cell_type": "code",
   "execution_count": 108,
   "metadata": {
    "hideOutput": true
   },
   "outputs": [
    {
     "name": "stdout",
     "output_type": "stream",
     "text": [
      "CAR-T Trials in US\n"
     ]
    },
    {
     "data": {
      "text/html": [
       "<div style=\"width:100%;\"><div style=\"position:relative;width:100%;height:0;padding-bottom:60%;\"><iframe src=\"data:text/html;charset=utf-8;base64,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\" style=\"position:absolute;width:100%;height:100%;left:0;top:0;border:none !important;\" allowfullscreen webkitallowfullscreen mozallowfullscreen></iframe></div></div>"
      ],
      "text/plain": [
       "<folium.folium.Map at 0x15354da0>"
      ]
     },
     "execution_count": 108,
     "metadata": {},
     "output_type": "execute_result"
    }
   ],
   "source": [
    "\n",
    "\n",
    "\n",
    "map = folium.Map(location = [38.58, -99.09], zoom_start=3.5, control_scale=True)\n",
    "fg = folium.FeatureGroup(name = \"My Map\")\n",
    "\n",
    "        \n",
    "for lat, lng, number, name, col in zip(jit_lat, jit_lng, jit_trial_no, jit_trial_name, colors):\n",
    "    fg.add_child(folium.CircleMarker(location = [lat, lng], popup = number + ', ' + name, radius = 3, color = col))\n",
    "    \n",
    "for lat, lng, city in zip(city_lat, city_lng, city_name): \n",
    "    fg.add_child(folium.CircleMarker(location = [lat, lng], popup = city, radius = .2, color = \"magenta\"))\n",
    "\n",
    "segments = []\n",
    "for i in range(len(city_site)):\n",
    "    for j in range(len(mask3[i])):\n",
    "        segments.append(tuple([[city_site[i]['Lat'], city_site[i]['Lng']], [mask3[i].iloc[j]['Lat'], mask3[i].iloc[j]['Lng']]]))\n",
    "\n",
    "for i in range(len(segments)):\n",
    "    fg.add_child(folium.PolyLine(locations=segments[i], color=\"black\", weight=.10, opacity=20))\n",
    "    \n",
    "print 'CAR-T Trials in US' \n",
    "map.add_child(fg)\n",
    "map.save(\"Map1.html\")\n",
    "map"
   ]
  },
  {
   "cell_type": "code",
   "execution_count": null,
   "metadata": {
    "collapsed": true
   },
   "outputs": [],
   "source": [
    "NCT_No = []\n",
    "length = []\n",
    "\n",
    "for i in range(len(mask2)):\n",
    "    NCT_No.append(mask2[i].iloc[0]['NCT Number'])\n",
    "    length.append(len(mask2[i]))"
   ]
  },
  {
   "cell_type": "code",
   "execution_count": null,
   "metadata": {
    "collapsed": true
   },
   "outputs": [],
   "source": [
    "plt.figure(figsize=(7,10))\n",
    "ax1 = plt.axes(frameon=False)\n",
    "barlist = plt.barh(df_['NCT Number'].tolist(), length, alpha = 0.8)\n",
    "for i in range(len(barlist)):\n",
    "    barlist[i].set_color(color[i])\n",
    "plt.grid()\n",
    "plt.title('Legend and Number of Sites per Trials \\n')\n",
    "plt.savefig('Legend_CART.png', format='png', dpi=600, bbox_inches=\"tight\", transparent=True)\n",
    "plt.show()\n"
   ]
  },
  {
   "cell_type": "code",
   "execution_count": null,
   "metadata": {
    "collapsed": true
   },
   "outputs": [],
   "source": [
    "from matplotlib.pyplot import figure\n",
    "import mpld3\n",
    "\n",
    "fig = plt.figure(figsize=(7,10))\n",
    "plt.gca()\n",
    "plt.axes(frameon=False)\n",
    "barlist = plt.barh(df_['NCT Number'].tolist(), length, alpha = 0.8)\n",
    "\n",
    "for i in range(len(barlist)):\n",
    "    barlist[i].set_color(color[i])\n",
    "\n",
    "\n",
    "\n",
    "\n",
    "plt.grid()\n",
    "plt.title('Legend and Number of Sites per Trials \\n')\n",
    "\n",
    "\n",
    "mpld3.display()"
   ]
  },
  {
   "cell_type": "code",
   "execution_count": null,
   "metadata": {
    "collapsed": true
   },
   "outputs": [],
   "source": [
    "mpld3.save_html(fig,'Legend.html')"
   ]
  },
  {
   "cell_type": "code",
   "execution_count": null,
   "metadata": {
    "collapsed": true
   },
   "outputs": [],
   "source": [
    "df_['NCT Number'].tolist()"
   ]
  },
  {
   "cell_type": "code",
   "execution_count": null,
   "metadata": {
    "collapsed": true
   },
   "outputs": [],
   "source": [
    "import pygal  \n",
    "\n",
    "# from pygal.style import Style\n",
    "# custom_style = Style(\n",
    "#   background='transparent',\n",
    "#   plot_background='transparent',\n",
    "#   foreground='#53E89B',\n",
    "#   foreground_strong='#53A0E8',\n",
    "#   foreground_subtle='#630C0D',\n",
    "#   opacity='.6',\n",
    "#   opacity_hover='.9',\n",
    "#   transition='400ms ease-in',\n",
    "#   colors=colors)"
   ]
  },
  {
   "cell_type": "code",
   "execution_count": null,
   "metadata": {
    "collapsed": true
   },
   "outputs": [],
   "source": [
    "# bar_chart = pygal.HorizontalBar()\n",
    "# for i in range(len(length)):\n",
    "    \n",
    "#     bar_chart.add(df_['NCT Number'].tolist()[i], length[i])\n",
    "    \n",
    "# bar_chart.render_to_file('bar_chart.svg')"
   ]
  },
  {
   "cell_type": "code",
   "execution_count": null,
   "metadata": {
    "collapsed": true
   },
   "outputs": [],
   "source": [
    "import pygal\n",
    "\n",
    "from IPython.display import SVG, display\n",
    "from pygal.style import Style\n",
    "custom_style = Style(\n",
    "  background='transparent',\n",
    "  plot_background='transparent',\n",
    "#   foreground='#53E89B',\n",
    "#   foreground_strong='#53A0E8',\n",
    "#   foreground_subtle='#630C0D',\n",
    "  \n",
    "  opacity='.4',\n",
    "  opacity_hover='.5',\n",
    "  transition='400ms ease-in',\n",
    "  colors=(color))\n",
    "\n",
    "# chart = pygal.StackedLine(fill=True, interpolate='cubic', )\n",
    "bar_chart = pygal.HorizontalBar(show_legend=False,  height = 1000, spacing = 1, style=custom_style)\n",
    "\n",
    "for i in range(len(length)):\n",
    "#     bar_chart.add(df_['NCT Number'].tolist()[i], )\n",
    "    bar_chart.add(df_['NCT Number'].tolist()[i], [{'value': length[i], 'label': df_['Title'].tolist()[i]}])\n",
    "\n",
    "# chart.add('A', [1, 3,  5, 16, 13, 3,  7])\n",
    "# chart.add('B', [5, 2,  3,  2,  5, 7, 17])\n",
    "# chart.add('C', [6, 10, 9,  7,  3, 1,  0])\n",
    "# chart.add('D', [2,  3, 5,  9, 12, 9,  5])\n",
    "# chart.add('E', [7,  4, 2,  1,  2, 10, 0])\n",
    "display({'image/svg+xml': bar_chart.render()}, raw=True)\n",
    "bar_chart.render_to_file('bar_chart1.svg')"
   ]
  },
  {
   "cell_type": "code",
   "execution_count": null,
   "metadata": {
    "collapsed": true
   },
   "outputs": [],
   "source": []
  }
 ],
 "metadata": {
  "kernelspec": {
   "display_name": "Python 2",
   "language": "python",
   "name": "python2"
  },
  "language_info": {
   "codemirror_mode": {
    "name": "ipython",
    "version": 2
   },
   "file_extension": ".py",
   "mimetype": "text/x-python",
   "name": "python",
   "nbconvert_exporter": "python",
   "pygments_lexer": "ipython2",
   "version": "2.7.15"
  }
 },
 "nbformat": 4,
 "nbformat_minor": 2
}
