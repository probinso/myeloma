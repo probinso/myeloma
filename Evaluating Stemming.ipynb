{
 "cells": [
  {
   "cell_type": "markdown",
   "metadata": {},
   "source": [
    "# Understanding Vocabulary\n",
    "\n",
    "In its simplest form, TFIDF and document clustering are all done using a `bag of words` model. This means that terms are only aware of their relation to a document, not eachother. We are unable to ask if a term preceeds another in a document, but we must rather ask if two terms co-occur in a document.\n",
    "\n",
    "In our definitions a term is any complete string represented in our collection of documents. The set of all tokens from all documents is our vocabulary. There are many ways to define tokens for a vocabulary. The simplest being that every word is included, as found in the original text. This has obvious drawbacks, like in words with suffixes. The terms `help`, `helping`, `Help` all have the same meaning, and therefore should all map to a single term in our vocabulary."
   ]
  },
  {
   "cell_type": "code",
   "execution_count": 104,
   "metadata": {},
   "outputs": [
    {
     "name": "stdout",
     "output_type": "stream",
     "text": [
      "We have 18 terms in our vocabulary!\n",
      "Freezy\n",
      "Thats\n",
      "Through\n",
      "While\n",
      "blew\n",
      "breeze\n",
      "cheese\n",
      "fleas\n",
      "flew\n",
      "free\n",
      "freeze\n",
      "freezy\n",
      "made\n",
      "sneeze\n",
      "these\n",
      "three\n",
      "trees\n",
      "what\n"
     ]
    }
   ],
   "source": [
    "from nltk import word_tokenize\n",
    "\n",
    "document = \"\"\"\n",
    "Through three cheese trees three free fleas flew\n",
    "While these fleas flew freezy breeze blew\n",
    "Freezy breeze made these three trees freeze\n",
    "Freezy trees made these trees cheese freeze\n",
    "Thats what made these three free fleas sneeze\n",
    "\"\"\"\n",
    "\n",
    "vocabulary = np.array(list(set(word_tokenize(document))))\n",
    "print('We have', vocabulary.size, 'terms in our vocabulary!')\n",
    "print(*sorted(vocabulary), sep='\\n')"
   ]
  },
  {
   "cell_type": "markdown",
   "metadata": {},
   "source": [
    "# Stemming\n",
    "\n",
    "The traditional way to reduce this term set is by stemming our words. Stemming algorithms are impirically built to truncate words to common form."
   ]
  },
  {
   "cell_type": "code",
   "execution_count": 105,
   "metadata": {},
   "outputs": [
    {
     "name": "stdout",
     "output_type": "stream",
     "text": [
      "We have 17 terms in our vocabulary!\n",
      "blew\n",
      "breez\n",
      "chees\n",
      "flea\n",
      "flew\n",
      "free\n",
      "freez\n",
      "freezi\n",
      "made\n",
      "sneez\n",
      "that\n",
      "these\n",
      "three\n",
      "through\n",
      "tree\n",
      "what\n",
      "while\n"
     ]
    }
   ],
   "source": [
    "from nltk.stem.snowball import SnowballStemmer\n",
    "from collections import defaultdict\n",
    "\n",
    "language = 'english'\n",
    "stemmer = SnowballStemmer(language)\n",
    "\n",
    "reverse_stemmer = defaultdict(list)\n",
    "\n",
    "for word in vocabulary:\n",
    "    stem = stemmer.stem(word)\n",
    "    reverse_stemmer[stem].append(word)\n",
    "\n",
    "print('We have', len(reverse_stemmer), 'terms in our vocabulary!')\n",
    "print(*sorted(reverse_stemmer), sep='\\n')"
   ]
  },
  {
   "cell_type": "markdown",
   "metadata": {},
   "source": [
    "# Evaluation - Levinshtein Distance\n",
    "\n",
    "In order to evaluate the effectiveness of this algorithm, we must check to see if there exists a pair of terms that should share a common truncation. In this example we can see that `Freezy`/`freezy` both truncated to `freezi`, and `freeze` truncates to `freez`.\n",
    "\n",
    "One way to find likely candidates for truncation is through edit distance from one word to another. The edit distance we use is called **levinshtein distance**."
   ]
  },
  {
   "cell_type": "code",
   "execution_count": 120,
   "metadata": {},
   "outputs": [],
   "source": [
    "from leven import levenshtein\n",
    "from scipy.spatial.distance import pdist, squareform\n",
    "import numpy as np\n",
    "\n",
    "def distance_matrix(terms):\n",
    "    transformed_strings = np.array(list(terms)).reshape(-1,1)\n",
    "    distances = pdist(transformed_strings, lambda a, b: levenshtein(a[0], b[0]))\n",
    "    matrix = squareform(distances)\n",
    "    return matrix"
   ]
  },
  {
   "cell_type": "code",
   "execution_count": 118,
   "metadata": {},
   "outputs": [],
   "source": [
    "%matplotlib inline\n",
    "from matplotlib import pyplot as plt\n",
    "\n",
    "def plot_distance_matrix(matrix, terms, cutoff=2):\n",
    "    fig, ax = plt.subplots(1,1)\n",
    "    fig.autofmt_xdate()\n",
    "\n",
    "    plt.imshow(matrix < cutoff)\n",
    "    ax.set_xticks(np.arange(len(terms)))\n",
    "    ax.set_xticklabels(terms)\n",
    "    ax.set_yticks(np.arange(len(terms)))\n",
    "    ax.set_yticklabels(terms)\n",
    "    _ = plt.show()\n"
   ]
  },
  {
   "cell_type": "code",
   "execution_count": 119,
   "metadata": {},
   "outputs": [
    {
     "data": {
      "image/png": "[encoded data removed]",
      "text/plain": [
       "<matplotlib.figure.Figure at 0x7fd386039240>"
      ]
     },
     "metadata": {},
     "output_type": "display_data"
    }
   ],
   "source": [
    "stemmer_matrix = distance_matrix(reverse_stemmer)\n",
    "plot_distance_matrix(stemmer_matrix, reverse_stemmer)\n",
    "\n",
    "word_matrix = distance_matrix(vocabulary)\n",
    "plot_distance_matrix(stemmer_matrix, reverse_stemmer)"
   ]
  }
 ],
 "metadata": {
  "kernelspec": {
   "display_name": "Python 3",
   "language": "python",
   "name": "python3"
  },
  "language_info": {
   "codemirror_mode": {
    "name": "ipython",
    "version": 3
   },
   "file_extension": ".py",
   "mimetype": "text/x-python",
   "name": "python",
   "nbconvert_exporter": "python",
   "pygments_lexer": "ipython3",
   "version": "3.6.5"
  }
 },
 "nbformat": 4,
 "nbformat_minor": 2
}
